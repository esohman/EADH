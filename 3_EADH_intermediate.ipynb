{
  "nbformat": 4,
  "nbformat_minor": 0,
  "metadata": {
    "colab": {
      "name": "EADH-intermediate.ipynb",
      "private_outputs": true,
      "provenance": [],
      "toc_visible": true,
      "authorship_tag": "ABX9TyNv/LehYJBy/hVBeEQmY0AN",
      "include_colab_link": true
    },
    "kernelspec": {
      "name": "python3",
      "display_name": "Python 3"
    },
    "language_info": {
      "name": "python"
    }
  },
  "cells": [
    {
      "cell_type": "markdown",
      "metadata": {
        "id": "view-in-github",
        "colab_type": "text"
      },
      "source": [
        "<a href=\"https://colab.research.google.com/github/esohman/EADH/blob/main/3_EADH_intermediate.ipynb\" target=\"_parent\"><img src=\"https://colab.research.google.com/assets/colab-badge.svg\" alt=\"Open In Colab\"/></a>"
      ]
    },
    {
      "cell_type": "markdown",
      "metadata": {
        "id": "r9vJqtdexPnP"
      },
      "source": [
        "#The Intermediate notebook\n",
        "Welcome to the intermediate notebook.\n",
        "By now you should have a solid grasp of how different data types work and how they can be used and manipulated in different situations.\n",
        "\n",
        "You should also understand for loops and list comprehension and be able to do small scale NLP projects using NLTK and/or spaCy as well as understand how to create and use regex patterns.\n",
        "\n",
        "If you feel that this is not the case, I recommend that you go back and revise the sections that you feel you do not yet quite understand. Look at the notebooks themselves and follow the links to additional resources to better understand all the different aspects of Python programming at the beginner level.\n",
        "\n",
        "Welcome to the intermediate level!\n",
        "\n",
        "\n"
      ]
    },
    {
      "cell_type": "markdown",
      "metadata": {
        "id": "ykhy95fyHN3g"
      },
      "source": [
        "#Functions\n",
        "\n",
        "The first thing we are going to discuss is functions. Functions are a way to reuse code. Instead of writing the same or similar piece of code multiple times, you can create a function and call it every time you need it.\n",
        "\n",
        "Say you have a list of tuples that contain the heights and bases of triangles. You can create a for loop to go through that list and in the loop pass those values to your function that calculates the area of the triangle.\n",
        "\n",
        "Check out the excellent [video](https://pythonhumanities.com/lesson-10-python-functions/) on functions on Python for DH.\n",
        "\n",
        "\n",
        "---\n",
        "\n",
        "\n",
        "We create functions with the keyword **def**, this is followed by the name of the function and then parentheses that can be left empty, but typically contain the names of the variables you want to use inside your function that have been passed to the function when the function was first called. In the code below, you pass the arguments i,j to the function tri_area. Inside that function i,j are known as h,b. As a sidenote, i and j are known as arguments when they are passed to the function, h and b are known as parameters. Some people use these interchangeably, but this is their correct meaning and there is a distinction.\n",
        "\n",
        "Functions have a return function. the return function states what it is that the function outputs."
      ]
    },
    {
      "cell_type": "code",
      "metadata": {
        "id": "cfn7t5RdxRVc"
      },
      "source": [
        "def tri_area(h,b):\n",
        "  return (h*b)/2\n",
        "\n",
        "lst = [(2.45,4),(3.3,5.4),(4.2,2.7),(4,4),(68,45)]\n",
        "for i,j in lst:\n",
        "  print(tri_area(i,j))\n",
        "\n"
      ],
      "execution_count": null,
      "outputs": []
    },
    {
      "cell_type": "markdown",
      "metadata": {
        "id": "W0120XpAvW5Z"
      },
      "source": [
        "A more complex example where we call another function from within a function:"
      ]
    },
    {
      "cell_type": "code",
      "metadata": {
        "id": "9g2GXQIwxflv"
      },
      "source": [
        "from math import pi\n",
        "\n",
        "def area_circle(r):\n",
        "  return pi * r ** 2\n",
        "\n",
        "def vol_cylinder(r,h):\n",
        "  return area_circle(r)*h\n",
        "\n",
        "#we can use the same list of values from the previous example\n",
        "lst = [(2.45,4),(3.3,5.4),(4.2,2.7),(4,4),(68,45)]\n",
        "\n",
        "for i,j in lst:\n",
        "  print(f'The area of the circle is {\"{:.2f}\".format(area_circle(i))} and the volume of the cylinder is {\"{:.2f}\".format(vol_cylinder(i,j))}')\n"
      ],
      "execution_count": null,
      "outputs": []
    },
    {
      "cell_type": "markdown",
      "metadata": {
        "id": "daIP02zVzRFf"
      },
      "source": [
        "###format()\n",
        "You might have noticed that we used .format() when printing. You do not have to use format here, but you can use it to specify the number of decimal places you want to show.\n",
        "\n",
        "Learn more about format() [here](https://www.w3schools.com/python/ref_string_format.asp)."
      ]
    },
    {
      "cell_type": "markdown",
      "metadata": {
        "id": "6ClJuZ6n3mTi"
      },
      "source": [
        "###input\n",
        "Sometimes you want to get user input. Now, there are ways of creating websites and graphical user interfaces in Python, but what if we just want a value or two for interactiveness in our script?"
      ]
    },
    {
      "cell_type": "code",
      "metadata": {
        "id": "RVTy-RlV3zkf"
      },
      "source": [
        "def monthly_pay(hrs,hpay,extra=0): #we can set a default value to a parameter\n",
        "  return (hrs*hpay)*0.8+extra #let's assume a tax rate of 20%, this could be a parameter too\n",
        "  \n",
        "  \n",
        "hours = float(input(\"How many hours did you work this month: \"))\n",
        "hourly = float(input(\"What is your hourly pay: \"))\n",
        "\n",
        "\n",
        "e = input(\"Are you getting a bonus or similar?(y/n) \")\n",
        "\n",
        "if e == \"y\":\n",
        "   extra = float(input(\"How much: \"))\n",
        "elif e == \"n\":\n",
        "   extra = 0\n",
        "else:\n",
        "   print(\"Error\")\n",
        "\n",
        "print(f'Your monthly take-home pay is {monthly_pay(hours,hourly,extra)}')\n"
      ],
      "execution_count": null,
      "outputs": []
    },
    {
      "cell_type": "markdown",
      "metadata": {
        "id": "z_xB9ycV058p"
      },
      "source": [
        "##Modules, libraries, and documentation\n",
        "More and more we have started using external modules and libraries. These libraries have functions that are not built into your base Python installation. Sometimes you need to use pip install to install them (on colab you can sue pip with \"!pip install pandas\" where pandas is the name of the library you want to install. On Colab, many of the most commonly used libraries are already installed, so you rarely have to do this.)\n",
        "\n",
        "We import these libraries so that we can use them in our code. We do this by typing import and the name of the library we want. We can also import only certain parts of a library. In the functions example we could have written#\n",
        "\n",
        "```\n",
        "import math\n",
        "\n",
        "print(math.pi*r**2)\n",
        "```\n",
        "or\n",
        "```\n",
        "from math import pi\n",
        "print(pi*r**2)\n",
        "```\n",
        "we can also rename the libraries we are importing\n",
        "```\n",
        "import pandas as pd\n",
        "```\n",
        "All decent libraries come with documentation. Documentation is very important in learning to understand how to use new libraries, or how to get the most out of familiar libraries.\n",
        "\n",
        "If you are ever stumped on how to do something, the documentation of the library you are using should be one of the first places you look for more information. Stackoverflow, is another top two contender.\n"
      ]
    },
    {
      "cell_type": "markdown",
      "metadata": {
        "id": "vOU_9DsuVv4j"
      },
      "source": [
        "#Pandas & Numpy\n",
        "\n",
        "pandas is a highly useful Python library for data analysis.\n",
        "Really, anytime you are dealing with csv files, you should consider if pandas might be the best option for the task at hand.\n",
        "\n",
        "pandas is built-on numpy and using numpy mathematical functions with pandas is quick, easy, and stress-free.\n",
        "\n",
        "With pandas we can create dataframes, which are kind of like spreadsheets in that we have rows and columns of data. With pandas it is very easy to manipulate this data.\n"
      ]
    },
    {
      "cell_type": "markdown",
      "metadata": {
        "id": "yteFFSdo1qUc"
      },
      "source": [
        "## Series\n",
        "Series is like a one-column dataframe. It cannot have a column name, but it can have a series name and you can name the rows.\n"
      ]
    },
    {
      "cell_type": "code",
      "metadata": {
        "id": "fB01o-So1n6h"
      },
      "source": [
        "import pandas as pd\n",
        "\n",
        "my_list = [123,2134,123] # a list of integers\n",
        "\n",
        "#let's make this list into a pandas series\n",
        "my_series = pd.Series(my_list)"
      ],
      "execution_count": null,
      "outputs": []
    },
    {
      "cell_type": "code",
      "metadata": {
        "id": "XBBKEYnMV06R"
      },
      "source": [
        "print(f'My list: {my_list}\\nMy Series: \\n{my_series}')"
      ],
      "execution_count": null,
      "outputs": []
    },
    {
      "cell_type": "code",
      "metadata": {
        "id": "qslyTjBrWIIg"
      },
      "source": [
        "#accessing individual elements\n",
        "print(my_series[1])"
      ],
      "execution_count": null,
      "outputs": []
    },
    {
      "cell_type": "code",
      "metadata": {
        "id": "elQ3jkP7WUQ7"
      },
      "source": [
        "#renaming the index\n",
        "my_series1 = pd.Series(my_list,index = [\"first\", \"second\", \"third\"])\n",
        "my_series2 = my_series.rename(index = {0:\"first\",1:\"second\",2:\"third\"}) #there is also the \"inplace\" option. Remember what it does?"
      ],
      "execution_count": null,
      "outputs": []
    },
    {
      "cell_type": "code",
      "metadata": {
        "id": "R0ox9zsWXFBo"
      },
      "source": [
        "print(f'1:\\n{my_series1}\\n2: \\n{my_series2}')"
      ],
      "execution_count": null,
      "outputs": []
    },
    {
      "cell_type": "code",
      "metadata": {
        "id": "H1ZAntD6YguC"
      },
      "source": [
        "#Creating a series from a dictionary\n",
        "dicty = {\"first\":\"lalala\",\"second\":123,\"third\":99.4}\n",
        "my_dictseries = pd.Series(dicty) #if you specify the index here, the series will only consist of the specified indexes e.g.: my_dictseries = pd.Series(dicty, index = [\"first\",\"third\"])"
      ],
      "execution_count": null,
      "outputs": []
    },
    {
      "cell_type": "code",
      "metadata": {
        "id": "QDz2OwI-Y0Z7"
      },
      "source": [
        "print(f'Series from dict:\\n{my_dictseries}')"
      ],
      "execution_count": null,
      "outputs": []
    },
    {
      "cell_type": "markdown",
      "metadata": {
        "id": "_7w188dRZsbe"
      },
      "source": [
        "##Dataframes"
      ]
    },
    {
      "cell_type": "code",
      "metadata": {
        "id": "-tgPDR5uZt-U"
      },
      "source": [
        "#we can merge series to create a dataframe\n",
        "df1 = pd.concat([my_series1, my_series2,my_dictseries], axis=1)\n",
        "\n",
        "#or we can create one from a dictionary (typically a dictionary of lists)\n",
        "d = {\"ex1\":[89,8,6,1,2,7,6],\"ex2\":[7,5,1,66,8,74,1]}\n",
        "df2 = pd.DataFrame(d)"
      ],
      "execution_count": null,
      "outputs": []
    },
    {
      "cell_type": "code",
      "metadata": {
        "collapsed": true,
        "id": "PYN-A9rkasEV"
      },
      "source": [
        "print(f'Df1:\\n{df1}\\nDf2:\\n{df2}')"
      ],
      "execution_count": null,
      "outputs": []
    },
    {
      "cell_type": "code",
      "metadata": {
        "collapsed": true,
        "id": "1O3crlN0hDf8"
      },
      "source": [
        "#access specific row using loc\n",
        "df2.iloc[3]\n"
      ],
      "execution_count": null,
      "outputs": []
    },
    {
      "cell_type": "code",
      "metadata": {
        "id": "nDFXS3RdhFV0"
      },
      "source": [
        "df = pd.read_csv('/content/drive/MyDrive/Colab Notebooks/data/XED/error.csv',index_col = 0) #replace this with any csv file (there's one under week 3 that contains Trump's insulting tweets)"
      ],
      "execution_count": null,
      "outputs": []
    },
    {
      "cell_type": "code",
      "metadata": {
        "collapsed": true,
        "id": "fc3Peojoi5Wm"
      },
      "source": [
        "df.head(12)"
      ],
      "execution_count": null,
      "outputs": []
    },
    {
      "cell_type": "code",
      "metadata": {
        "id": "arnCdoQIjQY7"
      },
      "source": [
        "df.tail(7)"
      ],
      "execution_count": null,
      "outputs": []
    },
    {
      "cell_type": "code",
      "metadata": {
        "collapsed": true,
        "id": "LnaDsocYjThU"
      },
      "source": [
        "df.info()"
      ],
      "execution_count": null,
      "outputs": []
    },
    {
      "cell_type": "code",
      "metadata": {
        "id": "kvHziVvC814Z"
      },
      "source": [
        "df.shape"
      ],
      "execution_count": null,
      "outputs": []
    },
    {
      "cell_type": "markdown",
      "metadata": {
        "id": "_hLYfK3FV0Ul"
      },
      "source": [
        "#Data Analysis"
      ]
    },
    {
      "cell_type": "code",
      "metadata": {
        "id": "EBgLgLF2V0N6"
      },
      "source": [
        ""
      ],
      "execution_count": null,
      "outputs": []
    },
    {
      "cell_type": "markdown",
      "metadata": {
        "id": "fDQYYRAnVypA"
      },
      "source": [
        "#Visualization"
      ]
    },
    {
      "cell_type": "code",
      "metadata": {
        "id": "nJzJQVssV74Z"
      },
      "source": [
        ""
      ],
      "execution_count": null,
      "outputs": []
    }
  ]
}