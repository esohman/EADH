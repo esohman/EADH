{
  "nbformat": 4,
  "nbformat_minor": 0,
  "metadata": {
    "colab": {
      "name": "EADH-intro.ipynb",
      "provenance": [],
      "collapsed_sections": [],
      "toc_visible": true,
      "mount_file_id": "1kb23ARCbTSlClNQ9iZ-fHO6KHeNMiFmy",
      "authorship_tag": "ABX9TyNTW31bt0Sizys4+FwSgbH5",
      "include_colab_link": true
    },
    "kernelspec": {
      "name": "python3",
      "display_name": "Python 3"
    }
  },
  "cells": [
    {
      "cell_type": "markdown",
      "metadata": {
        "id": "view-in-github",
        "colab_type": "text"
      },
      "source": [
        "<a href=\"https://colab.research.google.com/github/esohman/EADH/blob/main/1_EADH_intro.ipynb\" target=\"_parent\"><img src=\"https://colab.research.google.com/assets/colab-badge.svg\" alt=\"Open In Colab\"/></a>"
      ]
    },
    {
      "cell_type": "markdown",
      "metadata": {
        "id": "1JKDnPvdKKlj"
      },
      "source": [
        "# Introduction to Python for Digital Humanities"
      ]
    },
    {
      "cell_type": "markdown",
      "metadata": {
        "id": "onmI-srxSd5b"
      },
      "source": [
        "Welcome to the introduction to Python for Digital Humanities notebook.\n",
        "This notebook has been created by Emily Öhman, Assistant Professor of Digital Humanities at Waseda University, Japan, and funded by the European Association for Digital Humanities small grants.\n",
        "\n",
        "This is the first step to learning Python. The target audience for these tutorials is digital humanities, and other cross-disciplinary scholars and students who are not aiming to become programmers as such, but who wish to gain code literacy and the tools to do most of the computational side of their research themselves.\n",
        "\n",
        "If you already know the basics of Python you can move onto the next notebook (Beginner, Intermediate, or Advanced). If you know another programming language, you can use this notebook as a quick guide to Python syntax.\n",
        "\n",
        "There are many online tutorials and courses out there, some of them are even aimed at digital humanities scholars. This notebook differs from those in at least three respects: 1) There is a clear progression from total beginner up to machine learning, 2) it is interactive and requires no installations, 3) existing tools are linked to in order to minimize unecessary overlap.\n",
        "\n",
        "This notebook gives a cursory overview of Python concepts with links to more in-depth sources of information. For this first part, most of the links will be to the [w3schools Python page](https://www.w3schools.com/python/default.asp). This is a great free resource that lists all the basic functionalities of Python and allows you to run example code directly in your browser.\n",
        "\n",
        "This first notebook covers the topics of:\n",
        "\n",
        "1. Introduction to different data types and the basics of programming.\n",
        "2. Introduction to loops.\n",
        "3. Using packages, opening, modifying, and saving files.\n",
        "\n",
        "You can run Python code using a terminal-based application or an interpreter, or a notebook such as this. Most things work exactly the same whether you run them here or somewhere else. The code is identical.\n",
        "\n",
        "**To run code** on this notebook you should save a copy to your own drive (File -> save a copy in Drive) or if you don't have a Google account, you can use this notebook in Jupyter notebook. Once you've done that you can start playing with it. We recommend saving this notebook in your Drive and using it with Google Colab for simplicity and ease.\n",
        "\n",
        "Click on the \"play\" button on the left side of the next 'box', these boxes are refered to as cells. (The button appears when you hover your cursor over the [    ] brackets.) Or choose Runtime -> and then the appropriate choice. If you get \"not defined\" errors, it is probably because you have not run all the preceeding cells. Make sure to run all preceding cells when restarting the runtime to make sure all variables have been defined.\n",
        "\n",
        "There's a lot of information in the beginning. These are concepts we will come back to over and over again and you do not need to remember everything from the get go."
      ]
    },
    {
      "cell_type": "markdown",
      "metadata": {
        "id": "BFaLoeA4VEo-"
      },
      "source": [
        "## The first code with comments\n",
        "\n",
        "The cell below this one is a code cell.\n",
        "```\n",
        "# the hashtag indicates a comment. \n",
        "#This will not be interpreted as code and can be used to clarify code\n",
        "```\n",
        "The only code here is \n",
        "````\n",
        "1+2\n",
        "````\n",
        "As a sidenote, if you run your code as a script in a terminal, you will need to specify that you want to print to console. On notebooks such as these, everything is output by default. We will return to the print function later, but for starters, to print the results of 1+2 in a terminal environment, you would type:\n",
        "```\n",
        "print(1+2)\n",
        "```\n"
      ]
    },
    {
      "cell_type": "code",
      "metadata": {
        "id": "XMnM8K1pqihs",
        "colab": {
          "base_uri": "https://localhost:8080/"
        },
        "outputId": "2cf18bb4-fa99-4193-ef60-26e799aed1b3"
      },
      "source": [
        "#You can change these numbers to whatever you want. Click the \"play\" button again to get the answer.\n",
        "#btw, the hashtag indicates a comment that is to be ignored by the interpreter \n",
        "#comments make code easier to understand as you can explain in plain language what your code does\n",
        "\n",
        "#here we are simply adding 1 and 2, click play for results\n",
        "print(1+4)"
      ],
      "execution_count": null,
      "outputs": [
        {
          "output_type": "stream",
          "name": "stdout",
          "text": [
            "5\n"
          ]
        }
      ]
    },
    {
      "cell_type": "markdown",
      "metadata": {
        "id": "gZsIohlcdmK9"
      },
      "source": [
        "Python syntax is minimalistic compared to many other programming languages. You can read more about the basics of Python syntax here: https://www.w3schools.com/python/python_syntax.asp\n",
        "\n",
        "One important thing to note is that Python uses indentation (four spaces, or one tab) to show what belongs with what. This is very important for code functionality and inmost cases your code will not even run if you are using the wrong indentation. We will discuss this more in later sections, but for now, all our code will be on the same \"level\" and therefore no indentation is necessary."
      ]
    },
    {
      "cell_type": "markdown",
      "metadata": {
        "id": "1VqijuvwWzj2"
      },
      "source": [
        "## Variables and the print function\n",
        "To do the same thing using variables:\n",
        "we can store the values 1 and 2 respectively in variables. Let's call these variables a and b. In most programming languages, including Python, values are assigned using a single 'equals sign': =\n",
        "\n",
        "You can read more about variables here: https://www.w3schools.com/python/python_variables.asp\n",
        "\n",
        "Or check out [this video](https://pythonhumanities.com/lesson-02-storing-data-in-python/) on Python data types from Python for DH."
      ]
    },
    {
      "cell_type": "code",
      "metadata": {
        "id": "2caAaz7NtBHT",
        "colab": {
          "base_uri": "https://localhost:8080/"
        },
        "outputId": "9d7cc396-3c8a-4af4-ca49-2f22a93207d3"
      },
      "source": [
        "a = 1  #a and b are called variables. Here we assign them values. \n",
        "b = 2 #the value of a is now '1' and the value of b is now '2'\n",
        "print(a+b) #In most environments in order for our program to print any results to the screen, we need to use the print function.\n",
        "print('The result of ' + str(a) + '+' + str(b) + ' is: ' + str(a+b)) #You can print it like this\n",
        "print(f'The result of {a}+{b} is: {a+b}')  #But it's usually much easier to do it like this:\n",
        "\n",
        "#Let's change the value of one of the variables\n",
        "a = 5\n",
        "print(f'The result of {a}+{b} is: {a+b}')  #Let's print it again."
      ],
      "execution_count": null,
      "outputs": [
        {
          "output_type": "stream",
          "name": "stdout",
          "text": [
            "3\n",
            "The result of 1+2 is: 3\n",
            "The result of 1+2 is: 3\n",
            "The result of 5+2 is: 7\n"
          ]
        }
      ]
    },
    {
      "cell_type": "markdown",
      "metadata": {
        "id": "k3sd7l7kcMSV"
      },
      "source": [
        "The print command prints whatever you tell it to print. You use it with parentheses. As you can see, we used two slightly different print commands:\n",
        "```\n",
        "print()\n",
        "```\n",
        "and\n",
        "```\n",
        "print(f'')\n",
        "```\n",
        "The benefit of using print(f'') is that you can easily combine different datatypes and even operations when printing. When using print(f'') you can use curly brackets to print variables within the string. In this tutorial we will mainly be using print(f'').\n",
        "\n",
        "If you want to print actual text (i.e. not variables) you need to use quotation marks, single or double both work."
      ]
    },
    {
      "cell_type": "code",
      "metadata": {
        "id": "VRVgAkKvHFLw",
        "colab": {
          "base_uri": "https://localhost:8080/"
        },
        "outputId": "ed3c250a-3b09-4f68-8208-b43c6775d840"
      },
      "source": [
        "print('Hello!')"
      ],
      "execution_count": null,
      "outputs": [
        {
          "output_type": "stream",
          "name": "stdout",
          "text": [
            "Hello!\n"
          ]
        }
      ]
    },
    {
      "cell_type": "markdown",
      "metadata": {
        "id": "4Hbw7x1hWZ3q"
      },
      "source": [
        "You have probably noticed that different words appear in different colors. This is a design feature of most interpreters. Literals, variables, functions, comments, etc. all appear in different colors to make code more legible to humans."
      ]
    },
    {
      "cell_type": "markdown",
      "metadata": {
        "id": "z2AI4R2Yr8uF"
      },
      "source": [
        "#Datatypes\n",
        "Almost all programming languages have different data types. You an read more about data types in Python here: https://www.w3schools.com/python/python_datatypes.asp \n",
        "\n",
        "The most basic types are:\n"
      ]
    },
    {
      "cell_type": "markdown",
      "metadata": {
        "id": "FAwdludXiCo5"
      },
      "source": [
        "##Integers \n",
        "Whole numbers, no decimals. (By clicking 'play' you are assigning the given values to the variables. If you do not click 'play', the variables int_a etc will be undefined and the program will not know what they mean and will return an error.)\n",
        "\n",
        "Python for DH has a [nice video on integers and floats](https://pythonhumanities.com/lesson-04-python-integers-and-floats/)."
      ]
    },
    {
      "cell_type": "code",
      "metadata": {
        "id": "Q8m6AEP3iCCf"
      },
      "source": [
        "int_a = 1\n",
        "int_b = 5\n",
        "int_c = -5"
      ],
      "execution_count": null,
      "outputs": []
    },
    {
      "cell_type": "markdown",
      "metadata": {
        "id": "4kzL3iTdiIbt"
      },
      "source": [
        "\n",
        "##Floats \n",
        "Numbers with decimals. Note that the decimal point is a period, not a comma."
      ]
    },
    {
      "cell_type": "code",
      "metadata": {
        "id": "u-GGuhYBiJ56"
      },
      "source": [
        "fl_a = 0.1234\n",
        "fl_b = -5.78899\n",
        "fl_c = 1234.6543"
      ],
      "execution_count": null,
      "outputs": []
    },
    {
      "cell_type": "markdown",
      "metadata": {
        "id": "Esi5cVBuX3_M"
      },
      "source": [
        "Floats, integers and other numerical types support all basic mathematical operations. Note that when mixing numerical types like integers and floats, the result will be a float."
      ]
    },
    {
      "cell_type": "code",
      "metadata": {
        "id": "ufGGlNNdX1vR",
        "colab": {
          "base_uri": "https://localhost:8080/"
        },
        "outputId": "3f606903-0e63-4d28-ab0d-0e33eda27f06"
      },
      "source": [
        "print('Addition: ', int_a + fl_a)\n",
        "print('Substraction: ', fl_b - fl_c)\n",
        "print('Multiplication: ', int_c * fl_c)\n",
        "print('Division: ', fl_c / int_c)\n",
        "print('Exponentiation: ', int_b ** int_a)"
      ],
      "execution_count": null,
      "outputs": [
        {
          "output_type": "stream",
          "text": [
            "Addition:  1.1234\n",
            "Substraction:  -1240.44329\n",
            "Multiplication:  -6173.2715\n",
            "Division:  -246.93086\n",
            "Exponentiation:  5\n"
          ],
          "name": "stdout"
        }
      ]
    },
    {
      "cell_type": "code",
      "metadata": {
        "id": "YojOT5QnZMLn",
        "colab": {
          "base_uri": "https://localhost:8080/",
          "height": 181
        },
        "outputId": "3e612bb0-d868-47d1-f89f-82c8d7951a07"
      },
      "source": [
        "# Be careful not to divide by zero!\n",
        "int_a / 0"
      ],
      "execution_count": null,
      "outputs": [
        {
          "output_type": "error",
          "ename": "ZeroDivisionError",
          "evalue": "ignored",
          "traceback": [
            "\u001b[0;31m---------------------------------------------------------------------------\u001b[0m",
            "\u001b[0;31mZeroDivisionError\u001b[0m                         Traceback (most recent call last)",
            "\u001b[0;32m<ipython-input-4-c650ca4771a0>\u001b[0m in \u001b[0;36m<module>\u001b[0;34m()\u001b[0m\n\u001b[1;32m      1\u001b[0m \u001b[0;31m# Be careful not to divide by zero!\u001b[0m\u001b[0;34m\u001b[0m\u001b[0;34m\u001b[0m\u001b[0;34m\u001b[0m\u001b[0m\n\u001b[0;32m----> 2\u001b[0;31m \u001b[0mint_a\u001b[0m \u001b[0;34m/\u001b[0m \u001b[0;36m0\u001b[0m\u001b[0;34m\u001b[0m\u001b[0;34m\u001b[0m\u001b[0m\n\u001b[0m",
            "\u001b[0;31mZeroDivisionError\u001b[0m: division by zero"
          ]
        }
      ]
    },
    {
      "cell_type": "markdown",
      "metadata": {
        "id": "NA5QuDRODRqj"
      },
      "source": [
        "Notice how the error message tells you what kind of error this is and gives you extra details about it as well (alhtough in this case it is quite straight-forward). It also shows where the error happened in the code under \"Traceback\" (sometimes this can occur in code that you have imported from an other library, this typically means that there is something off about your datatype) and draws a red squiggly line under the error in the code cell.\n",
        "\n",
        "Whether you are running this code on Colab or your own computer (in the terminal, using PyCharm or VSCode), the error message will still look pretty much the same."
      ]
    },
    {
      "cell_type": "markdown",
      "metadata": {
        "id": "Z_7M1D3uI8LT"
      },
      "source": [
        "##Strings\n",
        "Strings are basically text. The text can include numbers.\n",
        "Strings are defined using either simple or double quotation marks.\n",
        "\n",
        "You can check out the Python for DH video on strings [here](https://pythonhumanities.com/lesson-03-python-strings/).\n"
      ]
    },
    {
      "cell_type": "code",
      "metadata": {
        "id": "jPcNvTaAaV7n"
      },
      "source": [
        "string_a = '' # this is an empty string\n",
        "string_b = 'Awesomeness!' #this is a non-empty string"
      ],
      "execution_count": null,
      "outputs": []
    },
    {
      "cell_type": "code",
      "metadata": {
        "id": "qdnAPAqJI6as",
        "colab": {
          "base_uri": "https://localhost:8080/",
          "height": 52
        },
        "outputId": "b3cbb53b-278c-4259-aea3-816fb7423f56"
      },
      "source": [
        "'This is a string. It can be long or short. It can include numbers like 10. It can also inlcude \"quotations marks\", they just have to be different from the main quotation marks.'"
      ],
      "execution_count": null,
      "outputs": [
        {
          "output_type": "execute_result",
          "data": {
            "application/vnd.google.colaboratory.intrinsic+json": {
              "type": "string"
            },
            "text/plain": [
              "'This is a string. It can be long or short. It can include numbers like 10. It can also inlcude \"quotations marks\", they just have to be different from the main quotation marks.'"
            ]
          },
          "metadata": {},
          "execution_count": 5
        }
      ]
    },
    {
      "cell_type": "markdown",
      "metadata": {
        "id": "GFlA61u6JMuW"
      },
      "source": [
        "Strings can be added and multiplied, much like numbers:"
      ]
    },
    {
      "cell_type": "code",
      "metadata": {
        "id": "ShZVdhj7JL06",
        "colab": {
          "base_uri": "https://localhost:8080/"
        },
        "outputId": "24415e04-1114-45c5-a92c-561d500fc297"
      },
      "source": [
        "a = 'kitty'\n",
        "print(a + 'cat')\n",
        "print(a*10)"
      ],
      "execution_count": null,
      "outputs": [
        {
          "output_type": "stream",
          "name": "stdout",
          "text": [
            "kittycat\n",
            "kittykittykittykittykittykittykittykittykittykitty\n"
          ]
        }
      ]
    },
    {
      "cell_type": "markdown",
      "metadata": {
        "id": "sT7qCyuNJq2J"
      },
      "source": [
        "All elements of a string have indexes. These start from 0. You can access elements of a string using positive or negative numbers within square brakets. You can also slice a string using square brackets and colons.\n",
        "\n",
        "**All indexes in Python start at 0. The first element of a list or string is always 0. In a list of 10 items, the indexes run from 0-9.**\n",
        "\n",
        "You can read more about strings and \"slicing\" (using square brackets to access different parts of a string) here: https://www.w3schools.com/python/python_strings.asp"
      ]
    },
    {
      "cell_type": "code",
      "metadata": {
        "id": "M5vHN8vjJfep",
        "colab": {
          "base_uri": "https://localhost:8080/"
        },
        "outputId": "4526abf1-bab4-405e-fa0b-f52bdc7d41e5"
      },
      "source": [
        "string = 'kittycat'\n",
        "print('First letter: ', string[0])\n",
        "print('Last letter: ', string[-1])\n",
        "print('Length of the string: ', len(string))\n",
        "print('Some slices: ', string[:6], string[::2])"
      ],
      "execution_count": null,
      "outputs": [
        {
          "output_type": "stream",
          "text": [
            "First letter:  k\n",
            "Last letter:  t\n",
            "Length of the string:  8\n",
            "Some slices:  kitty ktya\n"
          ],
          "name": "stdout"
        }
      ]
    },
    {
      "cell_type": "markdown",
      "metadata": {
        "id": "nR2oEYo5ijxn"
      },
      "source": [
        "**NB!** Notice that you do not have to explicitly state the type of a variable in Python. Python understands that you mean a string when you use quotes, integers if the number has no decimal points, floats if there are decimal points, list if you use square brackets, dictionaries when you use curly brackets etc."
      ]
    },
    {
      "cell_type": "code",
      "metadata": {
        "id": "6XNRKQagiiTS"
      },
      "source": [
        "# This will automatically be interpreted as a string:\n",
        "s = 'a'\n",
        "\n",
        "# This will automatically be interpreted as an integer:\n",
        "i = 3"
      ],
      "execution_count": null,
      "outputs": []
    },
    {
      "cell_type": "markdown",
      "metadata": {
        "id": "LiUKvxoXjM9O"
      },
      "source": [
        "Sometimes you can change the variable's type:\n",
        "\n",
        "https://www.w3schools.com/python/python_casting.asp"
      ]
    },
    {
      "cell_type": "code",
      "metadata": {
        "id": "AA3aKRTUjKqw",
        "colab": {
          "base_uri": "https://localhost:8080/"
        },
        "outputId": "9a6c6d8c-b9e5-47ed-b154-3cd3ce3aec66"
      },
      "source": [
        "# Turn an integer into a string\n",
        "str(i)\n",
        "type(str(i))"
      ],
      "execution_count": null,
      "outputs": [
        {
          "output_type": "execute_result",
          "data": {
            "text/plain": [
              "str"
            ]
          },
          "metadata": {
            "tags": []
          },
          "execution_count": 10
        }
      ]
    },
    {
      "cell_type": "code",
      "metadata": {
        "id": "Yg-glecTjX2U",
        "colab": {
          "base_uri": "https://localhost:8080/",
          "height": 198
        },
        "outputId": "b1377709-0783-4c7a-e672-9345d7e67e36"
      },
      "source": [
        "# Sometimes, however, it won't work:\n",
        "int(s)\n",
        "#Can you figure out why?"
      ],
      "execution_count": null,
      "outputs": [
        {
          "output_type": "error",
          "ename": "ValueError",
          "evalue": "ignored",
          "traceback": [
            "\u001b[0;31m---------------------------------------------------------------------------\u001b[0m",
            "\u001b[0;31mValueError\u001b[0m                                Traceback (most recent call last)",
            "\u001b[0;32m<ipython-input-8-3eca4e4833fc>\u001b[0m in \u001b[0;36m<module>\u001b[0;34m()\u001b[0m\n\u001b[1;32m      1\u001b[0m \u001b[0;31m# Sometimes, however, it won't work:\u001b[0m\u001b[0;34m\u001b[0m\u001b[0;34m\u001b[0m\u001b[0;34m\u001b[0m\u001b[0m\n\u001b[0;32m----> 2\u001b[0;31m \u001b[0mint\u001b[0m\u001b[0;34m(\u001b[0m\u001b[0ms\u001b[0m\u001b[0;34m)\u001b[0m\u001b[0;34m\u001b[0m\u001b[0;34m\u001b[0m\u001b[0m\n\u001b[0m\u001b[1;32m      3\u001b[0m \u001b[0;31m#Can you figure out why?\u001b[0m\u001b[0;34m\u001b[0m\u001b[0;34m\u001b[0m\u001b[0;34m\u001b[0m\u001b[0m\n",
            "\u001b[0;31mValueError\u001b[0m: invalid literal for int() with base 10: 'a'"
          ]
        }
      ]
    },
    {
      "cell_type": "markdown",
      "metadata": {
        "id": "1axazG9CK9Ob"
      },
      "source": [
        "## Booleans  \n",
        "Booleans and statements can be True or False. Perhaps you have a condition that you are waiting for to be met. In that case you can set an initial variable that is \"False\" and change it to \"True\" once the condition is met. If-statement comparisons also equate to Boolean values of True/False.\n",
        "\n",
        "Note that you have to capitalize the first letter. You can not give a variable a name such as True or False. These are known as reserved keywords: https://www.w3schools.com/python/python_ref_keywords.asp\n",
        "\n",
        "Also note that in most cases it is not possible to use other definitions as keywords either. This would include 'int' 'str' etc; basically words that are used for other things as built-in parts of Python.\n",
        "\n",
        "You can read more about Booleans and how to use them here:https://www.w3schools.com/python/python_booleans.asp\n"
      ]
    },
    {
      "cell_type": "code",
      "metadata": {
        "id": "kFLsFpb8Pvx2"
      },
      "source": [
        "t = True\n",
        "f = False"
      ],
      "execution_count": null,
      "outputs": []
    },
    {
      "cell_type": "code",
      "metadata": {
        "id": "XuryN6TlLDiy",
        "colab": {
          "base_uri": "https://localhost:8080/"
        },
        "outputId": "520cc04e-dbe7-4a03-d67a-81b6d0b0bcbf"
      },
      "source": [
        "# Remember: string = 'kittycat'\n",
        "hello = string[-1] != string[6] #so the last character of the string is the same as the eighth character\n",
        "print(hello)"
      ],
      "execution_count": null,
      "outputs": [
        {
          "output_type": "stream",
          "text": [
            "True\n"
          ],
          "name": "stdout"
        }
      ]
    },
    {
      "cell_type": "code",
      "metadata": {
        "id": "27KJEWRoLOMn",
        "colab": {
          "base_uri": "https://localhost:8080/"
        },
        "outputId": "196b9a22-2d07-4f42-a2eb-41f749e926b0"
      },
      "source": [
        "bool_false = len(string) == 7\n",
        "print(bool_false)\n",
        "print(len(string))\n",
        "#How \"long\" (how many characters are there) is string? How would you check that?"
      ],
      "execution_count": null,
      "outputs": [
        {
          "output_type": "stream",
          "text": [
            "False\n",
            "8\n"
          ],
          "name": "stdout"
        }
      ]
    },
    {
      "cell_type": "markdown",
      "metadata": {
        "id": "TAH6oqHiOQxp"
      },
      "source": [
        "## Comparing values and assigning values\n",
        "You noticed that we used single and double equal signs in the same lines. In Python, **one \"=\" sign** is used to assign a value to a variable, whereas **double \"==\" sign** is used to compare values. The double equals sign can be interpreted as an \"is\" statement. The opposite of \"==\", or an \"is not\" statenemt sign would be **\"!=\"**."
      ]
    },
    {
      "cell_type": "code",
      "metadata": {
        "id": "vq2dfmQyPGES"
      },
      "source": [
        "var = 'variable'"
      ],
      "execution_count": null,
      "outputs": []
    },
    {
      "cell_type": "code",
      "metadata": {
        "id": "sFCy7E4rPLCm",
        "colab": {
          "base_uri": "https://localhost:8080/"
        },
        "outputId": "d677c92c-e323-48b1-91e4-6d4728283cfd"
      },
      "source": [
        "var == 'variable' #This is obviously True since we defined it as such in the previous cell"
      ],
      "execution_count": null,
      "outputs": [
        {
          "output_type": "execute_result",
          "data": {
            "text/plain": [
              "True"
            ]
          },
          "metadata": {},
          "execution_count": 15
        }
      ]
    },
    {
      "cell_type": "code",
      "metadata": {
        "id": "gZNKdwJaPNwD",
        "colab": {
          "base_uri": "https://localhost:8080/"
        },
        "outputId": "02d87593-e38a-41c1-978d-95e192802108"
      },
      "source": [
        "# you can use the type() function in Python to check the variable's type. The \"var\" variable here is a string.\n",
        "type(var) == int"
      ],
      "execution_count": null,
      "outputs": [
        {
          "output_type": "execute_result",
          "data": {
            "text/plain": [
              "False"
            ]
          },
          "metadata": {
            "tags": []
          },
          "execution_count": 23
        }
      ]
    },
    {
      "cell_type": "code",
      "metadata": {
        "id": "6lzQz7ohPQUU",
        "colab": {
          "base_uri": "https://localhost:8080/"
        },
        "outputId": "a0efa616-561a-45ed-a4c7-5e3f78e9f2e9"
      },
      "source": [
        "type(var) is str"
      ],
      "execution_count": null,
      "outputs": [
        {
          "output_type": "execute_result",
          "data": {
            "text/plain": [
              "True"
            ]
          },
          "metadata": {
            "tags": []
          },
          "execution_count": 24
        }
      ]
    },
    {
      "cell_type": "code",
      "metadata": {
        "id": "t9eJOOsOPUMO",
        "colab": {
          "base_uri": "https://localhost:8080/"
        },
        "outputId": "8a5f3eae-e763-4543-ce22-1040d8fee431"
      },
      "source": [
        "type(var) is not float"
      ],
      "execution_count": null,
      "outputs": [
        {
          "output_type": "execute_result",
          "data": {
            "text/plain": [
              "True"
            ]
          },
          "metadata": {
            "tags": []
          },
          "execution_count": 25
        }
      ]
    },
    {
      "cell_type": "code",
      "metadata": {
        "id": "bAm9BC-QXNpU",
        "colab": {
          "base_uri": "https://localhost:8080/"
        },
        "outputId": "8a6c5e64-82fc-4b92-cb53-08741a3703fb"
      },
      "source": [
        "type(var) != str"
      ],
      "execution_count": null,
      "outputs": [
        {
          "output_type": "execute_result",
          "data": {
            "text/plain": [
              "False"
            ]
          },
          "metadata": {
            "tags": []
          },
          "execution_count": 26
        }
      ]
    },
    {
      "cell_type": "markdown",
      "metadata": {
        "id": "3yD8P8tRAegP"
      },
      "source": [
        "# Printing output\n",
        "print() is the basic output format in Python. However, it is rather complicated and cumbersome to print more than single variables using just print(). Therefore we'll now learn to use print(f'') instead.\n",
        "\n",
        "print(f'') allows us to seamlessly include variables and even functions into our output. All you need to do is to add a lower case f before the quotation marks. If you wish to print a variable or the output of a method or function using variables, all you need to do is put those variables/functions inside curly brackets."
      ]
    },
    {
      "cell_type": "code",
      "metadata": {
        "id": "zWOQpZIDA9rV"
      },
      "source": [
        "#Let's assign some values to these variable that we want to print\n",
        "g = 'words'\n",
        "n = 2\n",
        "m = 4"
      ],
      "execution_count": null,
      "outputs": []
    },
    {
      "cell_type": "code",
      "metadata": {
        "colab": {
          "base_uri": "https://localhost:8080/",
          "height": 164
        },
        "id": "zxZDU1dxbDDv",
        "outputId": "d5083f23-41d3-4f67-ef61-4b53b4a73705"
      },
      "source": [
        "print('I want to print my variables' + g + n + m) #How can you fix this error?"
      ],
      "execution_count": null,
      "outputs": [
        {
          "output_type": "error",
          "ename": "TypeError",
          "evalue": "ignored",
          "traceback": [
            "\u001b[0;31m---------------------------------------------------------------------------\u001b[0m",
            "\u001b[0;31mTypeError\u001b[0m                                 Traceback (most recent call last)",
            "\u001b[0;32m<ipython-input-7-fab91069fe69>\u001b[0m in \u001b[0;36m<module>\u001b[0;34m()\u001b[0m\n\u001b[0;32m----> 1\u001b[0;31m \u001b[0mprint\u001b[0m\u001b[0;34m(\u001b[0m\u001b[0;34m'I want to print my variables'\u001b[0m \u001b[0;34m+\u001b[0m \u001b[0mg\u001b[0m \u001b[0;34m+\u001b[0m \u001b[0mn\u001b[0m \u001b[0;34m+\u001b[0m \u001b[0mm\u001b[0m\u001b[0;34m)\u001b[0m \u001b[0;31m#How can you fix this error?\u001b[0m\u001b[0;34m\u001b[0m\u001b[0;34m\u001b[0m\u001b[0m\n\u001b[0m",
            "\u001b[0;31mTypeError\u001b[0m: can only concatenate str (not \"int\") to str"
          ]
        }
      ]
    },
    {
      "cell_type": "code",
      "metadata": {
        "colab": {
          "base_uri": "https://localhost:8080/"
        },
        "id": "Dmio7IWabJvT",
        "outputId": "f10c535b-aaf7-4fda-8d32-3953c44d8b68"
      },
      "source": [
        "#You can only concatenate strings so you need to change your integers into strings\n",
        "print('I want to print my variables\\n' + ' This is g: '+ g + ' This is n: '+ str(n) + ' This is m: '+ str(m)) \n",
        "print(f'\\n\\nI want to print my variables. \\nThis is g: {g}, this is n: {n} and this is m: {m} \\nThis is n+m: {n+m} and this n*g: {n*g}')"
      ],
      "execution_count": null,
      "outputs": [
        {
          "output_type": "stream",
          "name": "stdout",
          "text": [
            "I want to print my variables\n",
            " This is g: words This is n: 2 This is m: 4\n",
            "\n",
            "\n",
            "I want to print my variables. \n",
            "This is g: words, this is n: 2 and this is m: 4 \n",
            "This is n+m: 6 and this n*g: wordswords\n"
          ]
        }
      ]
    },
    {
      "cell_type": "markdown",
      "metadata": {
        "id": "gfXbEE8nbj4C"
      },
      "source": [
        "Note that we can use \\n to print line breaks.\n",
        "Similarly we can use \\t to print tabs.\n",
        "\n",
        "We will talk more about these when we look at regular expressions."
      ]
    },
    {
      "cell_type": "markdown",
      "metadata": {
        "id": "Nf4xmEO1JDV0"
      },
      "source": [
        "\n",
        "#A quick introduction to lists\n",
        "This data type is used to group values together. You can store practically any objects in lists. Lists are defined using square brackets, and elements are separated using a comma. List indexes start from 0 so that the first element of a list had index 0 and not 1, the second element has index 1, etc.\n",
        "\n",
        "Lists are also good when you don't know how big your output will be as you can always add more elements to your list. A list can consists of any type of data. You can have a list of integers, strings or a combination of both. You can also have a list of lists or a list of dictionaries etc.\n",
        "\n",
        "You can read more lists and how you can manipulate lists here: \n",
        "https://www.w3schools.com/python/python_lists_add.asp\n",
        "They will be discussed in more detail in the beginner notebook."
      ]
    },
    {
      "cell_type": "code",
      "metadata": {
        "id": "ewoZWYzVQCYT",
        "colab": {
          "base_uri": "https://localhost:8080/"
        },
        "outputId": "f7d322c9-bf0b-487a-edf1-d3d8d43b69df"
      },
      "source": [
        "# This is a list of integers\n",
        "l = [1, 2, 3]\n",
        "\n",
        "# This is a list of lists (that was unintentionally made to look like a matrix)\n",
        "ll = [[1, 2, 3], [4, 5, 6], [7, 8, 9]]\n",
        "print(len(ll))\n",
        "# And this is a list of all kinds of things!\n",
        "misc = [0, 1 == 1.0, type('cat')]\n",
        "print(misc)"
      ],
      "execution_count": null,
      "outputs": [
        {
          "output_type": "stream",
          "name": "stdout",
          "text": [
            "3\n",
            "[0, True, <class 'str'>]\n"
          ]
        }
      ]
    },
    {
      "cell_type": "markdown",
      "metadata": {
        "id": "sX7WFXAaRaeF"
      },
      "source": [
        "Lists also support indexing, just like strings, and you can access elements of a list by number using square brackets."
      ]
    },
    {
      "cell_type": "code",
      "metadata": {
        "id": "GZM7Tp_QROX1",
        "colab": {
          "base_uri": "https://localhost:8080/"
        },
        "outputId": "88dbfcfc-9f53-4ef8-85af-f75b8bf1a50b"
      },
      "source": [
        "print(l[0]) #printing the first element of list l (an integer)\n",
        "print(ll[-1]) #printing the last element of list ll (a list)\n",
        "\n",
        "# In the following statement [0, 0, 0] is a list and [0] is an index \n",
        "print([0, 0, 0][0]) #we're printing the first element of the list with three zeroes\n",
        "\n",
        "print(ll[2][1]) #we are printing the second element (index 1) of the third element (the list with index 2) of ll"
      ],
      "execution_count": null,
      "outputs": [
        {
          "output_type": "stream",
          "name": "stdout",
          "text": [
            "1\n",
            "[7, 8, 9]\n",
            "0\n",
            "8\n"
          ]
        }
      ]
    },
    {
      "cell_type": "markdown",
      "metadata": {
        "id": "BXihGhSHzxT0"
      },
      "source": [
        "# The Basics of Loops\n",
        "[Here is a good interactive tutorial on loops in Python.](https://www.learnpython.org/en/Loops) Python for DH also has [a great video ](https://pythonhumanities.com/lesson-09-python-loops/)on loops.\n",
        "\n",
        "The classic loops are *for* and *while*.\n",
        "Basically a for loop iterates over every item in a given sequence such as characters in a string or items in a list or key:value pairs of a dictionary. We will mainly be using the *for* loop, but you should be aware of the *while* loop too.\n",
        "\n",
        "\n",
        "```\n",
        "for item in sequence:\n",
        "  do something\n",
        "```\n",
        "\n",
        "\n",
        "A while loop loops as long as its basic, boolean, condition is met.\n",
        "\n",
        "\n",
        "\n",
        "```\n",
        "while True:\n",
        "  do something\n",
        "```\n",
        "\n",
        "Closely related to loops are *if-statements*, these are conditional statements where certain code is executed only if the conditions are met.\n",
        "\n",
        "\n",
        "\n",
        "```\n",
        "if True: #e.g. a==b\n",
        "  then do something\n",
        "elif something else is True\"\n",
        "  do something else\n",
        "else\n",
        "  do something else or do nothing\n",
        "```\n",
        "\n",
        "\n",
        "### while loop"
      ]
    },
    {
      "cell_type": "code",
      "metadata": {
        "colab": {
          "base_uri": "https://localhost:8080/"
        },
        "id": "rQg1_9HkZcyQ",
        "outputId": "cd1e0c7a-b38f-4745-b137-86c2a19c45f4"
      },
      "source": [
        "#In this example we set the initial value of the counter variable to 0\n",
        "#In the while loop we increase its value by one for every loop\n",
        "#Once the initial condition is no longer True, the loop exits or stops.\n",
        "\n",
        "counter = 0         #create counter with initial value of 0\n",
        "while counter < 10: #set the condition that determines for how long the loop should keep going/looping\n",
        "  print(counter)    #print the current value of the counter\n",
        "  counter += 1      #increase the value of the counter by 1\n",
        "\n",
        "\n",
        "#NOTE that counter += 1 is the same as counter = counter + 1\n",
        "#That is, we add to the existing value. \n",
        "#We can do the same with subtraction: counter -= 1 is the same as counter = counter - 1"
      ],
      "execution_count": null,
      "outputs": [
        {
          "output_type": "stream",
          "text": [
            "0\n",
            "1\n",
            "2\n",
            "3\n",
            "4\n",
            "5\n",
            "6\n",
            "7\n",
            "8\n",
            "9\n"
          ],
          "name": "stdout"
        }
      ]
    },
    {
      "cell_type": "markdown",
      "metadata": {
        "id": "B2mVS6a-jvFC"
      },
      "source": [
        "###basic for loop with list\n",
        "With a for loop we can **iterate**, that is loop, through a sequence of values (often a list).\n",
        "\n",
        "In the code cell below, the local variable name (i) can be anything and you can use the same name in other places of your code. The value does not carry over to outside the loop.\n",
        "\n",
        "The for loop accesses the first element in a sequence first, and then moves on to the next one the next time you loop through it."
      ]
    },
    {
      "cell_type": "code",
      "metadata": {
        "colab": {
          "base_uri": "https://localhost:8080/"
        },
        "id": "G56zZDFcX7Ox",
        "outputId": "a81e836d-01df-4406-a6b8-e971c39c3a93"
      },
      "source": [
        "mylist = [1,2,3,4,5]\n",
        "for i in mylist:\n",
        "  print(i)"
      ],
      "execution_count": null,
      "outputs": [
        {
          "output_type": "stream",
          "name": "stdout",
          "text": [
            "1\n",
            "2\n",
            "3\n",
            "4\n",
            "5\n"
          ]
        }
      ]
    },
    {
      "cell_type": "markdown",
      "metadata": {
        "id": "QylJGjReYKn1"
      },
      "source": [
        "### range()\n",
        "Range is a helpful way of creating numerical sequences in Python.\n",
        "Using range is much like creating a list on the spot.\n",
        "In fact, in older versions of Python (2.x) it literally created a list, but in current Python versions (3.x), it creates a *range object* that acts much like a list.\n",
        "\n",
        "Range has default values when slicing just like lists do.\n",
        "range(10) = a sequence of numbers that start from 0 (default start value) and stop at 9\n",
        "range(1,11) = a sequence of numbers starting from 1 and ending with 10\n",
        "range(2,20,2) = a sequence of numbers starting from 2, ending with 19, skipping every odd number (skipping every other number) \n",
        "\n",
        "Go ahead and change the numbers in parentheses after range and check how the values change.\n"
      ]
    },
    {
      "cell_type": "code",
      "metadata": {
        "colab": {
          "base_uri": "https://localhost:8080/"
        },
        "id": "JwXfF6DHZmFe",
        "outputId": "98035200-3564-4e29-eb39-063da73278b3"
      },
      "source": [
        "\n",
        "\n",
        "#we can use it like this\n",
        "for i in range(10):\n",
        "  print(i)"
      ],
      "execution_count": null,
      "outputs": [
        {
          "output_type": "stream",
          "name": "stdout",
          "text": [
            "0\n",
            "1\n",
            "2\n",
            "3\n",
            "4\n",
            "5\n",
            "6\n",
            "7\n",
            "8\n",
            "9\n"
          ]
        }
      ]
    },
    {
      "cell_type": "code",
      "metadata": {
        "colab": {
          "base_uri": "https://localhost:8080/"
        },
        "id": "1nwa8jxMi78w",
        "outputId": "ce385bcc-3d56-4e83-d394-193138e2c05a"
      },
      "source": [
        "#or like this\n",
        "myrange = range(10)\n",
        "\n",
        "for i in myrange:\n",
        "  print(i)"
      ],
      "execution_count": null,
      "outputs": [
        {
          "output_type": "stream",
          "name": "stdout",
          "text": [
            "0\n",
            "1\n",
            "2\n",
            "3\n",
            "4\n",
            "5\n",
            "6\n",
            "7\n",
            "8\n",
            "9\n"
          ]
        }
      ]
    },
    {
      "cell_type": "code",
      "metadata": {
        "colab": {
          "base_uri": "https://localhost:8080/"
        },
        "id": "O-pkngCojYiQ",
        "outputId": "4f5ca91a-cffd-4a1b-dd49-79d1e6b690fb"
      },
      "source": [
        "print(f'type of list: {type(l)}\\ntype of range: {type(myrange)}')"
      ],
      "execution_count": null,
      "outputs": [
        {
          "output_type": "stream",
          "name": "stdout",
          "text": [
            "type of list: <class 'list'>\n",
            "type of range: <class 'range'>\n"
          ]
        }
      ]
    },
    {
      "cell_type": "markdown",
      "metadata": {
        "id": "T7CbemU_ZnzE"
      },
      "source": [
        "### conditional statements\n",
        "Conditional statements produce boolean values, i.e. either True of False.\n",
        "\n",
        "We typically use if statements, sometimes with else and/or elif (else if) statements.\n",
        "\n",
        "Basically we are telling the interpreter to execute some code if a specific condition is met.\n",
        "\n",
        "You can read more about conditional statements [here](https://www.w3schools.com/python/python_conditions.asp) or watch a video [on Python for DH](https://pythonhumanities.com/lesson-08-python-conditionals/)."
      ]
    },
    {
      "cell_type": "code",
      "metadata": {
        "id": "B3bF3hLtZoBQ"
      },
      "source": [
        ""
      ],
      "execution_count": null,
      "outputs": []
    },
    {
      "cell_type": "markdown",
      "metadata": {
        "id": "wRf46fyKlI4i"
      },
      "source": [
        "###combining for loops with conditional statements\n",
        "\n",
        "Here we are iterating through a sequance of numbers,i.e. the list called *sequence*. For each element in the list, we check if the value is divisible by five (this is called modulo, you can read more about it [here](https://www.freecodecamp.org/news/the-python-modulo-operator-what-does-the-symbol-mean-in-python-solved/))"
      ]
    },
    {
      "cell_type": "code",
      "metadata": {
        "id": "nKXLOLBnzxey",
        "colab": {
          "base_uri": "https://localhost:8080/"
        },
        "outputId": "c994f00a-b19d-4f9a-b879-8c1660558c7d"
      },
      "source": [
        "sequence = [4,5,10,16,15,7,25,21,45235467,23344545,234,235]  #this sequence is a random list of numbers\n",
        "for item in sequence: #for every item in the sequence\n",
        "  if item % 5 == 0: #if the item is divisible by 5 \n",
        "    print(f'{item} is divisible by 5') #print the item\n",
        "  else:\n",
        "    print(f'{item} is not divisible by 5')"
      ],
      "execution_count": null,
      "outputs": [
        {
          "output_type": "stream",
          "name": "stdout",
          "text": [
            "4 is not divisible by 5\n",
            "5 is divisible by 5\n",
            "10 is divisible by 5\n",
            "16 is not divisible by 5\n",
            "15 is divisible by 5\n",
            "7 is not divisible by 5\n",
            "25 is divisible by 5\n",
            "21 is not divisible by 5\n",
            "45235467 is not divisible by 5\n",
            "23344545 is divisible by 5\n",
            "234 is not divisible by 5\n",
            "235 is divisible by 5\n"
          ]
        }
      ]
    },
    {
      "cell_type": "markdown",
      "metadata": {
        "id": "UJRLhKQg28s-"
      },
      "source": [
        "#Opening, Modifying and Saving Files\n",
        "\n",
        "For actual projects we almost always need to use our own data. Here we will look at how to import that data, how to modify it, and how to save it again. [Python for DH has a video](https://pythonhumanities.com/lesson-12-python-and-text-files/) on opening and modifying text files.\n"
      ]
    },
    {
      "cell_type": "markdown",
      "metadata": {
        "id": "_2fB547GIGHg"
      },
      "source": [
        "##Reading in a csv file as a dataframe\n",
        "This will be shown in detail in the intermediate notebook."
      ]
    },
    {
      "cell_type": "code",
      "metadata": {
        "id": "M5_2c2dBmz9e"
      },
      "source": [
        "#Read in csv file as dataframe\n",
        "import pandas as pd\n",
        "df = pd.read_csv(\"data.csv\")"
      ],
      "execution_count": null,
      "outputs": []
    },
    {
      "cell_type": "markdown",
      "metadata": {
        "id": "jEp2PuvCIJIJ"
      },
      "source": [
        "##Reading in a text file\n",
        "\n",
        "There are a few different ways of opening/writing/reading in/editing/appending to files.\n",
        "\n",
        "The first example is the most basic approach. Note that you need to actually have the file for the code to work. Where it now only says \"example.txt\" is the path to the file. It can be absolute or relative (if you don't know what that means, you can look it up [here](https://courses.cs.washington.edu/courses/cse140/13wi/file-interaction.html)).\n",
        "\n",
        "In colab you can either drag and drop a file to the folder on the left or you can mount your google drive and give the path to the file in your drive. The latter is preferrable as when you drag and drop, the file will be deleted once the runtime resets. If you right click on a file, you will see the option to \"copy file path\" you can do this and then past that information over \"example.txt\". You can also use the example.txt in GitHub."
      ]
    },
    {
      "cell_type": "code",
      "metadata": {
        "id": "WTvA4_LRIxbi"
      },
      "source": [
        "#The basic approach. NOT RECOMMENDED\n",
        "file = open('example.txt')\n",
        "#do something\n",
        "file.close()"
      ],
      "execution_count": null,
      "outputs": []
    },
    {
      "cell_type": "markdown",
      "metadata": {
        "id": "pNWxjoypnZ3J"
      },
      "source": [
        "Now the reason I don't recommend the above method of opening files is that you have to manually close the file after opening it. Leaving it open leads to all sorts of issues. You can use try/finally to open and close a file."
      ]
    },
    {
      "cell_type": "code",
      "metadata": {
        "id": "b4a9e38PIJUx"
      },
      "source": [
        "reader = open('example.txt')\n",
        "try:\n",
        "  # Further file processing goes here\n",
        "  pass\n",
        "finally:\n",
        "  reader.close()"
      ],
      "execution_count": null,
      "outputs": []
    },
    {
      "cell_type": "markdown",
      "metadata": {
        "id": "sOmFOFN6nr64"
      },
      "source": [
        "But the best way is to use ***with***.\n",
        "\n",
        "When you use with, you can read in the file and once you exit the with (indent at the same level or less) the file is automatically closed.\n",
        "\n",
        "There are a few different ways we can read in the file. We can read in all at once, or we can read it in line by line."
      ]
    },
    {
      "cell_type": "code",
      "metadata": {
        "id": "yKyQ3ks-Iiyx"
      },
      "source": [
        "#the same as above\n",
        "with open('example.txt') as reader:\n",
        "    # Further file processing goes here\n",
        "    pass"
      ],
      "execution_count": null,
      "outputs": []
    },
    {
      "cell_type": "code",
      "metadata": {
        "colab": {
          "base_uri": "https://localhost:8080/"
        },
        "id": "ImNBRtt_JDKM",
        "outputId": "0cea674f-36f2-4dce-918f-70a68440b9cb"
      },
      "source": [
        "#get all the contents\n",
        "with open('example.txt') as f:\n",
        "    contents = f.read()\n",
        "    print(contents) #note that in this case indentation does not matter"
      ],
      "execution_count": null,
      "outputs": [
        {
          "output_type": "stream",
          "name": "stdout",
          "text": [
            "The Zen of Python\n",
            "Beautiful is better than ugly.\n",
            "Explicit is better than implicit.\n",
            "Simple is better than complex.\n",
            "Complex is better than complicated.\n",
            "Flat is better than nested.\n",
            "Sparse is better than dense.\n",
            "Readability counts.\n",
            "Special cases aren't special enough to break the rules.\n",
            "Although practicality beats purity.\n",
            "Errors should never pass silently.\n",
            "Unless explicitly silenced.\n",
            "In the face of ambiguity, refuse the temptation to guess.\n",
            "There should be one-- and preferably only one --obvious way to do it.\n",
            "Although that way may not be obvious at first unless you're Dutch.\n",
            "Now is better than never.\n",
            "Although never is often better than *right* now.\n",
            "If the implementation is hard to explain, it's a bad idea.\n",
            "If the implementation is easy to explain, it may be a good idea.\n",
            "Namespaces are one honking great idea -- let's do more of those!\n"
          ]
        }
      ]
    },
    {
      "cell_type": "code",
      "metadata": {
        "colab": {
          "base_uri": "https://localhost:8080/"
        },
        "id": "v1WzuhbqJJxC",
        "outputId": "bfe54662-685e-45ef-e49e-dc37d7032c82"
      },
      "source": [
        "#to get a list of strings\n",
        "lines = []\n",
        "with open('example.txt') as f:\n",
        "    lines = f.readlines()\n",
        "\n",
        "count = 0\n",
        "for line in lines:\n",
        "    count += 1\n",
        "    print(f'line {count}: {line}')    #Any other way to get the number of lines?"
      ],
      "execution_count": null,
      "outputs": [
        {
          "output_type": "stream",
          "name": "stdout",
          "text": [
            "line 1: The Zen of Python\n",
            "\n",
            "line 2: Beautiful is better than ugly.\n",
            "\n",
            "line 3: Explicit is better than implicit.\n",
            "\n",
            "line 4: Simple is better than complex.\n",
            "\n",
            "line 5: Complex is better than complicated.\n",
            "\n",
            "line 6: Flat is better than nested.\n",
            "\n",
            "line 7: Sparse is better than dense.\n",
            "\n",
            "line 8: Readability counts.\n",
            "\n",
            "line 9: Special cases aren't special enough to break the rules.\n",
            "\n",
            "line 10: Although practicality beats purity.\n",
            "\n",
            "line 11: Errors should never pass silently.\n",
            "\n",
            "line 12: Unless explicitly silenced.\n",
            "\n",
            "line 13: In the face of ambiguity, refuse the temptation to guess.\n",
            "\n",
            "line 14: There should be one-- and preferably only one --obvious way to do it.\n",
            "\n",
            "line 15: Although that way may not be obvious at first unless you're Dutch.\n",
            "\n",
            "line 16: Now is better than never.\n",
            "\n",
            "line 17: Although never is often better than *right* now.\n",
            "\n",
            "line 18: If the implementation is hard to explain, it's a bad idea.\n",
            "\n",
            "line 19: If the implementation is easy to explain, it may be a good idea.\n",
            "\n",
            "line 20: Namespaces are one honking great idea -- let's do more of those!\n"
          ]
        }
      ]
    },
    {
      "cell_type": "markdown",
      "metadata": {
        "id": "xTxctJbToxCi"
      },
      "source": [
        "You can also specify the encoding when reading in a file."
      ]
    },
    {
      "cell_type": "code",
      "metadata": {
        "colab": {
          "base_uri": "https://localhost:8080/"
        },
        "id": "P1t8IYpuLxRl",
        "outputId": "6fa921bf-806c-48e3-f96b-d7b702252d64"
      },
      "source": [
        "#different encodings\n",
        "with open('example.txt', encoding='utf8') as f:\n",
        "    for line in f:\n",
        "        print(line.strip())"
      ],
      "execution_count": null,
      "outputs": [
        {
          "output_type": "stream",
          "text": [
            "The Zen of Python, by Tim Peters\n",
            "\n",
            "Beautiful is better than ugly.\n",
            "Explicit is better than implicit.\n",
            "Simple is better than complex.\n",
            "Complex is better than complicated.\n",
            "Flat is better than nested.\n",
            "Sparse is better than dense.\n",
            "Readability counts.\n",
            "Special cases aren't special enough to break the rules.\n",
            "Although practicality beats purity.\n",
            "Errors should never pass silently.\n",
            "Unless explicitly silenced.\n",
            "In the face of ambiguity, refuse the temptation to guess.\n",
            "There should be one-- and preferably only one --obvious way to do it.\n",
            "Although that way may not be obvious at first unless you're Dutch.\n",
            "Now is better than never.\n",
            "Although never is often better than *right* now.\n",
            "If the implementation is hard to explain, it's a bad idea.\n",
            "If the implementation is easy to explain, it may be a good idea.\n",
            "Namespaces are one honking great idea -- let's do more of those!\n"
          ],
          "name": "stdout"
        }
      ]
    },
    {
      "cell_type": "markdown",
      "metadata": {
        "id": "OVZEYbj0LpHV"
      },
      "source": [
        "##Writing files\n",
        "\n",
        "Writing files is very similar to reading. The main difference is that instead of \"w\" you use \"r\" to read in the file."
      ]
    },
    {
      "cell_type": "code",
      "metadata": {
        "id": "EtrLQKB9Lr9R"
      },
      "source": [
        "with open('example.txt', 'r') as reader:\n",
        "  # Note: readlines doesn't trim the line endings\n",
        "  example = reader.readlines()\n",
        "\n",
        "new_text = \"This is some additional information.\"\n",
        "with open('example_edited.txt', 'w') as writer:\n",
        "  writer.write(new_text)"
      ],
      "execution_count": null,
      "outputs": []
    },
    {
      "cell_type": "markdown",
      "metadata": {
        "id": "-fYwJSV5pa0J"
      },
      "source": [
        "If you use \"a\" instead of \"w\" it appends to the file. \"w\" deletes the contents of the original file and overwrites the data. \"a\" appends to the end."
      ]
    },
    {
      "cell_type": "code",
      "metadata": {
        "id": "wXUEo2jMSHNm"
      },
      "source": [
        "with open(\"example.txt\", \"a\") as myfile:\n",
        "    myfile.write(\"appended text\")"
      ],
      "execution_count": null,
      "outputs": []
    },
    {
      "cell_type": "markdown",
      "metadata": {
        "id": "_exOxHEaZc_v"
      },
      "source": [
        "# All done!\n",
        "\n",
        "You have now finished the first notebook. If you feel like you understand most of the content quite well: Excellent! Continue on with the next Notebook.\n",
        "\n",
        "If you feel like you need to practice some of these concepts more, [Kaggle has a great notebook-based Python tutorial](https://www.kaggle.com/learn/python) that covers much of the same topics anc concepts this notebook does."
      ]
    }
  ]
}