{
  "nbformat": 4,
  "nbformat_minor": 0,
  "metadata": {
    "colab": {
      "name": "EADH-beginner.ipynb",
      "private_outputs": true,
      "provenance": [],
      "toc_visible": true,
      "authorship_tag": "ABX9TyOuzMq/shXcAHS2a9tHCdb6",
      "include_colab_link": true
    },
    "kernelspec": {
      "name": "python3",
      "display_name": "Python 3"
    },
    "language_info": {
      "name": "python"
    }
  },
  "cells": [
    {
      "cell_type": "markdown",
      "metadata": {
        "id": "view-in-github",
        "colab_type": "text"
      },
      "source": [
        "<a href=\"https://colab.research.google.com/github/esohman/EADH/blob/main/EADH_beginner.ipynb\" target=\"_parent\"><img src=\"https://colab.research.google.com/assets/colab-badge.svg\" alt=\"Open In Colab\"/></a>"
      ]
    },
    {
      "cell_type": "markdown",
      "metadata": {
        "id": "zVLzkZuWvyQ-"
      },
      "source": [
        "#EADH Beginner Notebook\n",
        "\n",
        "Welcome to the Python for Digital Humanities Beginner Notebook!\n",
        "You should have a general idea of many programming concepts now and understand what comments, variables, and datatypes are and what can be done with some basic data types.\n",
        "\n",
        "In this notebook we will set a solid practical base that will allow you to move onto intermediate tasks.\n",
        "\n",
        "Like the introductory notebook, this one too links to existing sources."
      ]
    },
    {
      "cell_type": "markdown",
      "metadata": {
        "id": "oppe5-BgEbMV"
      },
      "source": [
        "##Lists, dictionaries and sets!"
      ]
    },
    {
      "cell_type": "markdown",
      "metadata": {
        "id": "Nf4xmEO1JDV0"
      },
      "source": [
        "\n",
        "###Lists\n",
        "This data type is used to group values together. You can store practically any objects in lists. Lists are defined using square brackets, and elements are separated using a comma. List indexes start from 0 so that the first element of a list had index 0 and not 1, the second element has index 1, etc.\n",
        "\n",
        "Lists are also good when you don't know how big your output will be as you can always add more elements to your list. A list can consists of any type of data. You can have a list of integers, strings or a combination of both. You can also have a list of lists or a list of dictionaries etc.\n",
        "\n",
        "You can read more lists and how you can manipulate lists here: \n",
        "https://www.w3schools.com/python/python_lists_add.asp"
      ]
    },
    {
      "cell_type": "code",
      "metadata": {
        "id": "ewoZWYzVQCYT"
      },
      "source": [
        "# This is a list of integers\n",
        "l = [1, 2, 3]\n",
        "\n",
        "# This is a list of lists (that was unintentionally made to look like a matrix)\n",
        "ll = [[1, 2, 3], [4, 5, 6], [7, 8, 9]]\n",
        "print(len(ll))\n",
        "# And this is a list of all kinds of things!\n",
        "misc = [0, 1 == 1.0, type('cat')]\n",
        "print(misc)"
      ],
      "execution_count": null,
      "outputs": []
    },
    {
      "cell_type": "markdown",
      "metadata": {
        "id": "sX7WFXAaRaeF"
      },
      "source": [
        "Lists also support indexing, just like strings, and you can access elements of a list by number using square brackets."
      ]
    },
    {
      "cell_type": "code",
      "metadata": {
        "id": "GZM7Tp_QROX1"
      },
      "source": [
        "print(l[0])\n",
        "print(ll[-1])\n",
        "\n",
        "# In the following statement [0, 0, 0] is a list and [0] is an index \n",
        "print([0, 0, 0][0])"
      ],
      "execution_count": null,
      "outputs": []
    },
    {
      "cell_type": "markdown",
      "metadata": {
        "id": "ZF17WADATzTq"
      },
      "source": [
        "You can add elements to existing lists using .append() and .extend() functions:"
      ]
    },
    {
      "cell_type": "code",
      "metadata": {
        "id": "akKhRgbATydB"
      },
      "source": [
        "# Modify list l by adding another object. If you run this sell more than once, more numbers will be added.\n",
        "l.append(4)\n",
        "print('Modified list: ', l)\n",
        "\n",
        "# Notice that here we do not modify the existing list ll, but create different new lists\n",
        "ll_app = ll\n",
        "ll_app.append([0, 0, 0])\n",
        "print('Appended: ', ll_app)\n",
        "ll_ext = ll\n",
        "ll_ext.extend([0, 0, 0])\n",
        "print('Extended: ', ll_ext)"
      ],
      "execution_count": null,
      "outputs": []
    },
    {
      "cell_type": "code",
      "metadata": {
        "id": "JHuGo2jyXyti"
      },
      "source": [
        "l.append(ll)\n",
        "print(l)"
      ],
      "execution_count": null,
      "outputs": []
    },
    {
      "cell_type": "code",
      "metadata": {
        "id": "aKCe8_MFX8lJ"
      },
      "source": [
        "l = [1, 2, 3]\n",
        "ll = [[1, 2, 3], [4, 5, 6], [7, 8, 9]]\n",
        "l.append(ll)\n",
        "print(l)"
      ],
      "execution_count": null,
      "outputs": []
    },
    {
      "cell_type": "markdown",
      "metadata": {
        "id": "k8zUsy8oQFuH"
      },
      "source": [
        "###Dictionaries  \n",
        "Dictionaries are associtiative variables. They contain unique keys, with which different values can be associated. Values belonging to different keys do not have to be unique. Only immutable variables, such as strings and numbers, can be keys. Dictionaries are much like real dictionaries in that you have certain keys (like a lexical item) that correspond to values (the definition of the word in a dictionary).\n",
        "\n",
        "Read more about dictionaries here: https://www.w3schools.com/python/python_dictionaries.asp\n"
      ]
    },
    {
      "cell_type": "code",
      "metadata": {
        "id": "e3Uk3hKNQG-M"
      },
      "source": [
        "d = {'cat': 'singular', 'cats': 'plural', 'kittens': 'plural'}\n",
        "d2 = {'cat': ('singular','mammal'), 'cats': 'plural', 'kittens': 'plural'}"
      ],
      "execution_count": null,
      "outputs": []
    },
    {
      "cell_type": "markdown",
      "metadata": {
        "id": "Eqva1GsbZlbI"
      },
      "source": [
        "Dictionaries are indexed by keys. You can access any value by its key."
      ]
    },
    {
      "cell_type": "code",
      "metadata": {
        "id": "7Q_4cqz2ZkRo"
      },
      "source": [
        "d2['cat']"
      ],
      "execution_count": null,
      "outputs": []
    },
    {
      "cell_type": "markdown",
      "metadata": {
        "id": "MXVisCd3ZzgQ"
      },
      "source": [
        "There are many things that can be done with dictionaries in Python, so for now we will only cover the basics."
      ]
    },
    {
      "cell_type": "code",
      "metadata": {
        "id": "rg6AU9OnZvuc"
      },
      "source": [
        "# Add a new key: value pair\n",
        "# Notice that no matter how many times you rerun this cell, only one pair will be added. \n",
        "# This is because a dictionary can't have multiple pairs with the same key, so each time you rerun this cell, the 'puppy''s value is rewritten, not added again.\n",
        "d['puppy'] = 'singular'\n",
        "print(d)\n",
        "\n",
        "# Add multiple new pairs\n",
        "dd = {'humans': 'plural', 'puppies': 'plur'}\n",
        "d.update(dd)\n",
        "print(d)\n",
        "\n",
        "# Rewrite a value\n",
        "d['puppies'] = 'plural'\n",
        "print(d)\n",
        "\n",
        "# Delete a key: value pair\n",
        "del d['humans']\n",
        "print(d)\n",
        "\n",
        "# Display all key: value pairs using the .items() method\n",
        "print(\"All keys and values: \", d.items())\n",
        "# You can also use .keys() method to access all keys, and .values() method to access all values"
      ],
      "execution_count": null,
      "outputs": []
    },
    {
      "cell_type": "markdown",
      "metadata": {
        "id": "wGCD8-MDjtqU"
      },
      "source": [
        "More information can always be found, for example, in the official Python guides ans tutorials: https://docs.python.org/3/"
      ]
    },
    {
      "cell_type": "markdown",
      "metadata": {
        "id": "ijttOSpyE3K6"
      },
      "source": [
        "### Sets and Tuples"
      ]
    },
    {
      "cell_type": "code",
      "metadata": {
        "id": "KmQ8vb-pEbdM"
      },
      "source": [
        ""
      ],
      "execution_count": null,
      "outputs": []
    },
    {
      "cell_type": "markdown",
      "metadata": {
        "id": "YBxthX3gtkZP"
      },
      "source": [
        "#List comprehension"
      ]
    },
    {
      "cell_type": "code",
      "metadata": {
        "id": "E9EUz1qBtkkS"
      },
      "source": [
        ""
      ],
      "execution_count": null,
      "outputs": []
    },
    {
      "cell_type": "markdown",
      "metadata": {
        "id": "nGKsIJhRxMVU"
      },
      "source": [
        "#Troubleshooting\n",
        "One of the easiest ways to deal with certain types of errors in your code is by using exceptions. Exceptions allow you to check if something works, and if it doesn't, keep going. Error types can be specified or "
      ]
    },
    {
      "cell_type": "code",
      "metadata": {
        "id": "kNPt0sHtxOtI"
      },
      "source": [
        "try\n",
        "except"
      ],
      "execution_count": null,
      "outputs": []
    },
    {
      "cell_type": "markdown",
      "metadata": {
        "id": "jyn3c1eOxYsv"
      },
      "source": [
        "#Regular Expressions\n",
        "\"A Regular Expression (RegEx) is a sequence of characters that defines a search pattern.\" ([source](https://www.programiz.com/python-programming/regex))"
      ]
    },
    {
      "cell_type": "code",
      "metadata": {
        "id": "Q3NJEo0rxcdw"
      },
      "source": [
        "#The simplest regex patterns consist of alphanumeric characters\n",
        "import re\n",
        "#you can use both match and search, the difference is that match matches only the beginning of the string, search matches in the whole string\n",
        "\n",
        "pattern = r\"monster\" #let's call all our regular expressions \"pattern\"s. Note the r before the quotation marks\n",
        "sequence = \"Cookie monster\" #let's call all the strng sequences we are searching \"sequence\"s\n",
        "if re.match(pattern, sequence):\n",
        "  print(\"Match!\")\n",
        "else: \n",
        "  print(\"Not a match!\")\n",
        "\n",
        "#you can do the same with re.search() \n",
        "if re.search(pattern, sequence):\n",
        "  print(\"Found!\")\n",
        "else: \n",
        "  print(\"Not found!\")"
      ],
      "execution_count": null,
      "outputs": []
    },
    {
      "cell_type": "code",
      "metadata": {
        "id": "Ytbvf_p8Uqiq"
      },
      "source": [
        "#Sometimes we want to know exactly what was found with our pattern\n",
        "pattern = ''\n",
        "sequence = ''\n",
        "matches = re.findall(pattern,sequence)"
      ],
      "execution_count": null,
      "outputs": []
    },
    {
      "cell_type": "code",
      "metadata": {
        "id": "L2V_5Tj6TOhT"
      },
      "source": [
        "#Another common thing we might want to do is replace\n",
        "pattern = ''\n",
        "replacewith = ''\n",
        "sequence = ''\n",
        "matches = re.sub(pattern, replacewith,sequence)"
      ],
      "execution_count": null,
      "outputs": []
    },
    {
      "cell_type": "markdown",
      "metadata": {
        "id": "r9vJqtdexPnP"
      },
      "source": [
        "#Functions"
      ]
    },
    {
      "cell_type": "code",
      "metadata": {
        "id": "cfn7t5RdxRVc"
      },
      "source": [
        ""
      ],
      "execution_count": null,
      "outputs": []
    },
    {
      "cell_type": "markdown",
      "metadata": {
        "id": "fofsLvC_xRkd"
      },
      "source": [
        "#Text proccessing and corpus linguistics with Python"
      ]
    },
    {
      "cell_type": "code",
      "metadata": {
        "id": "s6o-vo7exYg1"
      },
      "source": [
        ""
      ],
      "execution_count": null,
      "outputs": []
    },
    {
      "cell_type": "markdown",
      "metadata": {
        "id": "LhHuGH-7xcsw"
      },
      "source": [
        "##NLTK\n",
        "###NLTK BOOK\n",
        "\n",
        "The Natural Language Toolkit is a comrehensive module for Python with many built-in tools that will help you automatically process and analyze texts.\n",
        "\n",
        "We will work with it in later weeks, but if you are really interested in language technology and natural language processing, feel free to read [the book](https://www.nltk.org/book/) and complete the exercises within."
      ]
    },
    {
      "cell_type": "code",
      "metadata": {
        "id": "0UbZZRruxeGI"
      },
      "source": [
        ""
      ],
      "execution_count": null,
      "outputs": []
    }
  ]
}
