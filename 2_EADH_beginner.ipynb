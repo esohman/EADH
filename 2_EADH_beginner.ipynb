{
  "nbformat": 4,
  "nbformat_minor": 0,
  "metadata": {
    "colab": {
      "name": "EADH-beginner.ipynb",
      "private_outputs": true,
      "provenance": [],
      "toc_visible": true,
      "authorship_tag": "ABX9TyNKZKPfHBiOEdLgx07PecQo",
      "include_colab_link": true
    },
    "kernelspec": {
      "name": "python3",
      "display_name": "Python 3"
    },
    "language_info": {
      "name": "python"
    }
  },
  "cells": [
    {
      "cell_type": "markdown",
      "metadata": {
        "id": "view-in-github",
        "colab_type": "text"
      },
      "source": [
        "<a href=\"https://colab.research.google.com/github/esohman/EADH/blob/main/2_EADH_beginner.ipynb\" target=\"_parent\"><img src=\"https://colab.research.google.com/assets/colab-badge.svg\" alt=\"Open In Colab\"/></a>"
      ]
    },
    {
      "cell_type": "markdown",
      "metadata": {
        "id": "zVLzkZuWvyQ-"
      },
      "source": [
        "#EADH Beginner Notebook\n",
        "\n",
        "Welcome to the Python for Digital Humanities Beginner Notebook!\n",
        "You should have a general idea of many programming concepts now and understand what comments, variables, and datatypes are and what can be done with some basic data types.\n",
        "\n",
        "In this notebook we will set a solid practical base that will allow you to move onto intermediate tasks. We will examine the concepts you learned in the previous notebook in more detail, learn about some new datatypes, and combine all the different things you learned previously to see how they can be used together. We will also explore other Python libraries such as NLTK and learn more about regular expressions.\n",
        "\n",
        "Like the introductory notebook, this one too links to existing sources. Don't hesitate to look at those other sources whenever you are feeling confused."
      ]
    },
    {
      "cell_type": "markdown",
      "metadata": {
        "id": "oppe5-BgEbMV"
      },
      "source": [
        "#Lists, dictionaries, sets, and tuples!\n",
        "\n",
        "A **List** is a collection which is ordered and changeable. Allows duplicate members.\n",
        "\n",
        "A **Tuple** is a collection which is ordered and unchangeable. Allows duplicate members.\n",
        "\n",
        "A **Set** is a collection which is unordered and unindexed. No duplicate members.\n",
        "\n",
        "A **Dictionary** is a collection which is ordered and changeable. No duplicate members."
      ]
    },
    {
      "cell_type": "markdown",
      "metadata": {
        "id": "Nf4xmEO1JDV0"
      },
      "source": [
        "\n",
        "##Lists\n",
        "We looked briefly at lists in the previous notebook. Now we'll take a much closer look at them.\n",
        "\n",
        "NB! Lists are their own data type unrelated to the data type they contain.\n",
        "\n",
        "\n",
        "This data type is used to group values together. You can store practically any objects in lists. Lists are defined using square brackets, and elements are separated using a comma. List indexes start from 0 so that the first element of a list had index 0 and not 1, the second element has index 1, etc.\n",
        "\n",
        "Lists are also good when you don't know how big your output will be as you can always add more elements to your list. A list can consists of any type of data. You can have a list of integers, strings or a combination of both. You can also have a list of lists or a list of dictionaries etc.\n",
        "\n",
        "You can read more lists and how you can manipulate lists here: \n",
        "https://www.w3schools.com/python/python_lists_add.asp\n",
        "\n",
        "or [watch the Python for DH video](https://pythonhumanities.com/lesson-06-python-lists/) on lists."
      ]
    },
    {
      "cell_type": "code",
      "metadata": {
        "id": "ewoZWYzVQCYT"
      },
      "source": [
        "# This is a list of integers\n",
        "l = [1, 2, 3]\n",
        "\n",
        "# This is a list of lists (that was unintentionally made to look like a matrix)\n",
        "ll = [[1, 2, 3], [4, 5, 6], [7, 8, 9]]\n",
        "print(len(ll))\n",
        "# And this is a list of all kinds of things!\n",
        "misc = [0, 1 == 1.0, type('cat')]\n",
        "print(misc)"
      ],
      "execution_count": null,
      "outputs": []
    },
    {
      "cell_type": "markdown",
      "metadata": {
        "id": "sX7WFXAaRaeF"
      },
      "source": [
        "Lists also support indexing, just like strings, and you can access elements of a list by number using square brackets."
      ]
    },
    {
      "cell_type": "code",
      "metadata": {
        "id": "GZM7Tp_QROX1"
      },
      "source": [
        "print(l[0]) #printing the first element of list l (an integer)\n",
        "print(ll[-1]) #printing the last element of list ll (a list)\n",
        "\n",
        "# In the following statement [0, 0, 0] is a list and [0] is an index \n",
        "print([0, 0, 0][0]) #we're printing the first element of the list with three zeroes\n",
        "\n",
        "print(ll[2][1]) #we are printing the second element (index 1) of the third element (the list with index 2) of ll"
      ],
      "execution_count": null,
      "outputs": []
    },
    {
      "cell_type": "markdown",
      "metadata": {
        "id": "ZF17WADATzTq"
      },
      "source": [
        "You can add elements to existing lists using .append() and .extend() functions:"
      ]
    },
    {
      "cell_type": "code",
      "metadata": {
        "id": "akKhRgbATydB"
      },
      "source": [
        "# Modify list l by adding another object. If you run this sell more than once, more numbers will be added.\n",
        "l.append(4)\n",
        "print('Modified list: ', l)\n",
        "\n",
        "# Notice that here we do not modify the existing list ll, but create different new lists\n",
        "ll_app = ll\n",
        "ll_app.append([0, 0, 0])\n",
        "print('Appended: ', ll_app)\n",
        "#Can you spot the difference between extend and append?\n",
        "ll_ext = ll\n",
        "ll_ext.extend([0, 0, 0])\n",
        "print('Extended: ', ll_ext)"
      ],
      "execution_count": null,
      "outputs": []
    },
    {
      "cell_type": "code",
      "metadata": {
        "id": "JHuGo2jyXyti"
      },
      "source": [
        "l.append(ll)\n",
        "print(l)"
      ],
      "execution_count": null,
      "outputs": []
    },
    {
      "cell_type": "code",
      "metadata": {
        "id": "aKCe8_MFX8lJ"
      },
      "source": [
        "l = [1, 2, 3]\n",
        "ll = [[1, 2, 3], [4, 5, 6], [7, 8, 9]]\n",
        "l.append(ll)\n",
        "print(l)"
      ],
      "execution_count": null,
      "outputs": []
    },
    {
      "cell_type": "code",
      "metadata": {
        "id": "Ie5WQtY1f6Dp"
      },
      "source": [
        "l = [1, 2, 3]\n",
        "ll = [[1, 2, 3], [4, 5, 6], [7, 8, 9]]\n",
        "l.extend(ll)\n",
        "print(l)"
      ],
      "execution_count": null,
      "outputs": []
    },
    {
      "cell_type": "markdown",
      "metadata": {
        "id": "-OIM1d5pgANJ"
      },
      "source": [
        "Append adds an object at the end of the specified list. If that object is another list, it adds that list as a single element. Say the original length of a list is 3, and you append another list with three elements to the first list, the length of the list is now 4 (not 6).\n",
        "\n",
        "Extend adds the specified values to the end of the list to be extended. So with a list with three elements, extending it with another list with three elements, gets us a list with six elements. \n",
        "\n",
        "***Extend appends elements from an iterable. Append appends the whole iterable.***\n",
        "\n",
        "We can also remove and insert items from/to lists. In the code cell here you can see the effect of most these list methods.\n"
      ]
    },
    {
      "cell_type": "code",
      "metadata": {
        "id": "HsSd-tuDvfme"
      },
      "source": [
        "myList = [1,2,3,4,5,6,7,8]\n",
        "item = \"item\"\n",
        "print(f'myList in the beginning: {myList}')\n",
        "\n",
        "myList[2] = \"juice\" #replaces the value in index 2 with the new value ‘juice’ You can replace multiple values at the same time.\n",
        "print(f'myList after replacing index: {myList}')\n",
        "\n",
        "myList.append(item) #adds an item at the end of the list\n",
        "print(f'myList after append: {myList}')\n",
        "\n",
        "myList.extend(item) #merges two iterables adding the second iterable’s items  at the end of the first list’s items\n",
        "print(f'myList after extension: {myList}') \n",
        "#note that the item is a string, i.e. a sequence of characters and is iterable\n",
        "\n",
        "index = 1\n",
        "myList.insert(index,item) #inserts an new item at the given index moving all the other items one index forward\n",
        "print(f'myList after insertion: {myList}')\n",
        "\n",
        "myList.remove(item) #removes the first instance of the specified item\n",
        "print(f'myList after remove: {myList}')\n",
        "\n",
        "myList.pop(index) #removes the item at the specified index, if left empty, it removes the last item in the list\n",
        "print(f'myList after pop: {myList}')\n",
        "\n",
        "#pop() also returns the popped item so\n",
        "popped = myList.pop(index)\n",
        "print(f'Popped: {popped}\\nMyList: {myList}')\n",
        "\n",
        "del myList[index] #deletes the item at the specified index\n",
        "print(f'myList after deletion of index: {myList}')\n",
        "\n",
        "del myList # deletes the entire list \n",
        "print(f'myList after deletion of entire list: {myList}')\n",
        "#notice how you get an error since the list no longer exists!"
      ],
      "execution_count": null,
      "outputs": []
    },
    {
      "cell_type": "markdown",
      "metadata": {
        "id": "IolRsTkGyEdt"
      },
      "source": [
        "###sort and reverse\n",
        "We can also sort and reverse lists"
      ]
    },
    {
      "cell_type": "code",
      "metadata": {
        "id": "lvq4wKtCyDgA"
      },
      "source": [
        "mylist = [4,3,78,34,54,23,1]\n",
        "\n",
        "print(mylist)\n",
        "mylist.reverse()\n",
        "print(f'myList reversed: {mylist}')\n",
        "mylist.sort()\n",
        "print(f'myList sorted: {mylist}')"
      ],
      "execution_count": null,
      "outputs": []
    },
    {
      "cell_type": "markdown",
      "metadata": {
        "id": "k8zUsy8oQFuH"
      },
      "source": [
        "##Dictionaries  \n",
        "Dictionaries are associtiative variables. They contain unique keys, with which different values can be associated. Values belonging to different keys do not have to be unique. Only immutable variables, such as strings and numbers, can be keys. Dictionaries are much like real dictionaries in that you have certain keys (like a lexical item) that correspond to values (the definition of the word in a dictionary).\n",
        "\n",
        "Read more about dictionaries here: https://www.w3schools.com/python/python_dictionaries.asp\n",
        "\n",
        "Python for DH also has a good [video on creating and working with dictionaries](https://pythonhumanities.com/index.php/lesson-07-python-dictionaries/).\n"
      ]
    },
    {
      "cell_type": "code",
      "metadata": {
        "id": "e3Uk3hKNQG-M"
      },
      "source": [
        "d = {'cat': 'singular', 'cats': 'plural', 'kittens': 'plural'}\n",
        "d2 = {'cat': ('singular','mammal'), 'cats': 'plural', 'kittens': 'plural'}"
      ],
      "execution_count": null,
      "outputs": []
    },
    {
      "cell_type": "markdown",
      "metadata": {
        "id": "Eqva1GsbZlbI"
      },
      "source": [
        "Dictionaries are indexed by keys. You can access any value by its key."
      ]
    },
    {
      "cell_type": "code",
      "metadata": {
        "id": "7Q_4cqz2ZkRo"
      },
      "source": [
        "d2['cat']"
      ],
      "execution_count": null,
      "outputs": []
    },
    {
      "cell_type": "markdown",
      "metadata": {
        "id": "MXVisCd3ZzgQ"
      },
      "source": [
        "There are many things that can be done with dictionaries in Python, so for now we will only cover the basics."
      ]
    },
    {
      "cell_type": "code",
      "metadata": {
        "id": "rg6AU9OnZvuc"
      },
      "source": [
        "# Add a new key: value pair\n",
        "# Notice that no matter how many times you rerun this cell, only one pair will be added. \n",
        "# This is because a dictionary can't have multiple pairs with the same key, so each time you rerun this cell, the 'puppy''s value is rewritten, not added again.\n",
        "d['puppy'] = 'singular'\n",
        "print(d)\n",
        "\n",
        "# Add multiple new pairs\n",
        "dd = {'humans': 'plural', 'puppies': 'plur'}\n",
        "d.update(dd)\n",
        "print(d)\n",
        "\n",
        "# Rewrite a value\n",
        "d['puppies'] = 'plural'\n",
        "print(d)\n",
        "\n",
        "# Delete a key: value pair\n",
        "del d['humans']\n",
        "print(d)\n",
        "\n",
        "# Display all key: value pairs using the .items() method\n",
        "print(\"All keys and values: \", d.items())\n",
        "# You can also use .keys() method to access all keys, and .values() method to access all values"
      ],
      "execution_count": null,
      "outputs": []
    },
    {
      "cell_type": "markdown",
      "metadata": {
        "id": "wGCD8-MDjtqU"
      },
      "source": [
        "More information can always be found, for example, in the official Python guides ans tutorials: https://docs.python.org/3/"
      ]
    },
    {
      "cell_type": "markdown",
      "metadata": {
        "id": "CdogrvPUzzTd"
      },
      "source": [
        "###defaultdict\n",
        "\n",
        "The built-in Python dictionary is a very useful data type, but if you try to access a key that does not exist, you get a KeyError. KeyErrors can be helpful, but it can also be beneficial to have the ability to automatically create a key-value pair if the key you are trying does not exist.\n",
        "\n",
        "This can be done with the help of ***defaultdict*** which needs to be imported from collections"
      ]
    },
    {
      "cell_type": "code",
      "metadata": {
        "id": "aEva5dSB0ikE"
      },
      "source": [
        "from collections import defaultdict\n",
        " \n",
        "test_dic = defaultdict(int) #we set the defaultdict's default value for when a Key does not exist\n",
        "#this default value can be a data type (defaultdict(int)) or a function\n",
        "\n",
        "test_dic[\"cat\"] = 1\n",
        "test_dic[\"dog\"] = 2\n",
        " \n",
        "print(test_dic[\"cat\"])\n",
        "print(test_dic[\"dog\"])\n",
        "print(test_dic[\"parrot\"])"
      ],
      "execution_count": null,
      "outputs": []
    },
    {
      "cell_type": "markdown",
      "metadata": {
        "id": "ijttOSpyE3K6"
      },
      "source": [
        "## Sets and Tuples\n",
        "\n",
        "Sets are similar to lists with a few exceptions:\n",
        "\n",
        "* Sets are unordered\n",
        "* Sets are unchangeable\n",
        "* Sets can not hold duplicate values\n",
        "\n",
        "\n",
        "You can convert a list to a set using set(myList), this removes duplicate values.\n",
        "\t\t\n"
      ]
    },
    {
      "cell_type": "code",
      "metadata": {
        "id": "KmQ8vb-pEbdM"
      },
      "source": [
        "mylist = [3,5,5,7,8,3,4,5,6]\n",
        "print(f'mylist as list: {mylist} and mylist as set: {set(mylist)}')"
      ],
      "execution_count": null,
      "outputs": []
    },
    {
      "cell_type": "markdown",
      "metadata": {
        "id": "zXleB104S_Wu"
      },
      "source": [
        "As for tuples, they are [variables that are used to store multiple values](https://www.w3schools.com/python/python_tuples.asp). You can understand them better by watching [this Python for DH video](https://pythonhumanities.com/lesson-05-python-tuples/).\n",
        "\n",
        "Tuples are ordered, unchangeable, and unlike sets can hold duplicate values.\n",
        "\n",
        "Just like lists, you can access individual values in a tuple by their indexes that start at 0."
      ]
    },
    {
      "cell_type": "code",
      "metadata": {
        "id": "GlZ7k9IfTsl7"
      },
      "source": [
        "mytuple = (1,\"cat\",4)\n",
        "print(len(mytuple))\n",
        "print(mytuple[1])"
      ],
      "execution_count": null,
      "outputs": []
    },
    {
      "cell_type": "markdown",
      "metadata": {
        "id": "CK1cQ6vQUdv-"
      },
      "source": [
        "You can do most things with tuples and sets that you can do with lists. The main difference is that sets do not allow duplicates and tuples are unchangeable which means that you cannot change the values after the tuple has been created."
      ]
    },
    {
      "cell_type": "markdown",
      "metadata": {
        "id": "YBxthX3gtkZP"
      },
      "source": [
        "#List comprehension\n",
        "List comprehension is Python at its most Python.\n",
        "\n",
        "List comprehension is a more efficient and clean way of writing for loops of certain types.\n",
        "\n",
        "Sometimes a traditional for loops works better so don't use list comprehension just for the sake of it."
      ]
    },
    {
      "cell_type": "code",
      "metadata": {
        "id": "E9EUz1qBtkkS"
      },
      "source": [
        "#this is a typical for loop\n",
        "mylist = [1,2,3,4,5,6,7,8,9,0]\n",
        "newlist = []\n",
        "\n",
        "for element in mylist:\n",
        "  if element%2: #this is the same as saying element%2!=0 as False = 0, and True = 1\n",
        "    newlist.append(element)\n",
        "\n",
        "print(newlist)"
      ],
      "execution_count": null,
      "outputs": []
    },
    {
      "cell_type": "code",
      "metadata": {
        "id": "RgJkzDyq2xHL"
      },
      "source": [
        "#we can write the above code using list comprehension\n",
        "mylist = [1,2,3,4,5,6,7,8,9,0]\n",
        "\n",
        "newlist = [element for element in mylist if element%2]\n",
        "\n",
        "print(newlist)"
      ],
      "execution_count": null,
      "outputs": []
    },
    {
      "cell_type": "markdown",
      "metadata": {
        "id": "T25xfJ6V43if"
      },
      "source": [
        "We can also do nested loops and several if statements in one."
      ]
    },
    {
      "cell_type": "code",
      "metadata": {
        "id": "0d_es3Cy47_E"
      },
      "source": [
        "mylist = [1,2,3,4,5,6,7,8,9,0]\n",
        "newlist = [element*2 for element in mylist if element > 2 and element <8]\n",
        "print(newlist)"
      ],
      "execution_count": null,
      "outputs": []
    },
    {
      "cell_type": "code",
      "metadata": {
        "id": "3UlsbAfk5QLI"
      },
      "source": [
        "mylist = [1,2,3,4,5]\n",
        "mylist2 = [\"a\",\"b\",\"c\"]\n",
        "newlist = [element*element2 for element in mylist for element2 in mylist2 if element %2]\n",
        "print(newlist)"
      ],
      "execution_count": null,
      "outputs": []
    },
    {
      "cell_type": "markdown",
      "metadata": {
        "id": "qYLF6afuHL7J"
      },
      "source": [
        "###Dictionary comprehension\n",
        "Similar to list comprehension, we can do dictionary comprehension too."
      ]
    },
    {
      "cell_type": "code",
      "metadata": {
        "id": "TQQZvc_GHSDo"
      },
      "source": [
        "#rather than doing \n",
        "d = {}\n",
        "list1 = [1,2,3,4,5,6,7]\n",
        "list2 = [54,12,876,34,123,756,435]\n",
        "\n",
        "for item in list1:\n",
        "  d[item] = list2[list1.index(item)] #we are checking the index of item\n",
        "\n",
        "print(d)"
      ],
      "execution_count": null,
      "outputs": []
    },
    {
      "cell_type": "code",
      "metadata": {
        "id": "ov61E1qLH5AW"
      },
      "source": [
        "#or\n",
        "d = {}\n",
        "list1 = [1,2,3,4,5,6,7]\n",
        "list2 = [54,12,876,34,123,756,435]\n",
        "mergedlist = list(zip(list1,list2)) #we are using zip to zip together, merge, two lists\n",
        "\n",
        "for i,j in mergedlist:\n",
        "  d[i] = j\n",
        "\n",
        "print(d)"
      ],
      "execution_count": null,
      "outputs": []
    },
    {
      "cell_type": "code",
      "metadata": {
        "id": "ih3YyOTwILo3"
      },
      "source": [
        "#we can use dictionary comprehension\n",
        "list1 = [1,2,3,4,5,6,7]\n",
        "list2 = [54,12,876,34,123,756,435]\n",
        "d = {i:j for i,j in list(zip(list1,list2))}\n",
        "print(d)"
      ],
      "execution_count": null,
      "outputs": []
    },
    {
      "cell_type": "markdown",
      "metadata": {
        "id": "nGKsIJhRxMVU"
      },
      "source": [
        "#Troubleshooting\n",
        "Getting errors when programming is one of the best ways to learn. Errors force you to troubleshoot and solve problems.\n",
        "\n",
        "There are a few steps to troubleshooting that go something like:\n",
        "1. Check your code for obvious mistakes like typos, using the wrong variable in the wrong place, an extra comma or parenthesis somewhere. \n",
        "\n",
        "  If the problem is that the output is not what you expected, print out the values of variables along the way like before during and after loops. This shows you where things go wrong.\n",
        "\n",
        "2. Read the error message. Try to understand it. It could be a very simple fix. If not, google it. StackOverflow is your best friend and will remain so until the day you stop programming.\n",
        "\n",
        "3. One of the easiest ways to deal with certain types of errors in your code is by using exceptions. Exceptions allow you to check if something works, and if it doesn't, keep going. Error types can be specified or you can leave the type blank for the same treatment of all errors. The danger here is though that you might not catch errors that you should be catching and your output is not what it's supposed to be. It is recommended to always specify the error or errors that you want to except."
      ]
    },
    {
      "cell_type": "code",
      "metadata": {
        "id": "kNPt0sHtxOtI"
      },
      "source": [
        "divisorlist = [1,2,3,0,1]\n",
        "n = 1234\n",
        "try:\n",
        "  for i in divisorlist:\n",
        "    print(n/i)\n",
        "except:\n",
        "  pass"
      ],
      "execution_count": null,
      "outputs": []
    },
    {
      "cell_type": "code",
      "metadata": {
        "id": "cGnfk9s4VfAt"
      },
      "source": [
        "try:\n",
        "  for i in divisorlist:\n",
        "    print(n/i)\n",
        "except ZeroDivisionError:\n",
        "  print(\"Don't divide with zero!\")"
      ],
      "execution_count": null,
      "outputs": []
    },
    {
      "cell_type": "code",
      "metadata": {
        "id": "5yWo7gZHSjcR"
      },
      "source": [
        "try:\n",
        "  for i in divisorlist:\n",
        "    print(n/i)\n",
        "except ZeroDivisionError:\n",
        "  print(\"Don't divide with zero!\")\n",
        "finally: #we can also add a finally that is executed after the rest of the code\n",
        "  print(\"All done!\")"
      ],
      "execution_count": null,
      "outputs": []
    },
    {
      "cell_type": "markdown",
      "metadata": {
        "id": "DsAhDAwCPSUg"
      },
      "source": [
        "Did you notice that once we get an exception, the try block is no longer attempted. There is no way around this except for complicated work arounds.\n",
        "\n",
        "\n",
        "\n"
      ]
    },
    {
      "cell_type": "markdown",
      "metadata": {
        "id": "FGJEuIx4Q2sg"
      },
      "source": [
        "\n",
        "Also note how we used ***pass*** under except in the first example. With except if there is nothing we want to do with the exception, we use pass. With loops we can choose between:\n",
        "* ***continue*** which returns to the top of a loop or the next part of the code\n",
        "* ***pass*** which literally does nothing. If there is code after pass, it will be executed\n",
        "* ***break*** which exits the loop"
      ]
    },
    {
      "cell_type": "code",
      "metadata": {
        "id": "YxLmQ8K9QIkb"
      },
      "source": [
        "for letter in 'hello':\n",
        "  if(letter == 'e'):\n",
        "    print('pass to be executed')\n",
        "    pass\n",
        "  print(letter)"
      ],
      "execution_count": null,
      "outputs": []
    },
    {
      "cell_type": "code",
      "metadata": {
        "id": "G--r2QIVSJas"
      },
      "source": [
        "for letter in 'hello':\n",
        "  if(letter == 'e'):\n",
        "    print('continue to be executed')\n",
        "    continue\n",
        "  print(letter)"
      ],
      "execution_count": null,
      "outputs": []
    },
    {
      "cell_type": "code",
      "metadata": {
        "id": "vrYdMpwCSPat"
      },
      "source": [
        "for letter in 'hello':\n",
        "  if(letter == 'e'):\n",
        "    print('break to be executed')\n",
        "    break\n",
        "  print(letter)"
      ],
      "execution_count": null,
      "outputs": []
    },
    {
      "cell_type": "markdown",
      "metadata": {
        "id": "jyn3c1eOxYsv"
      },
      "source": [
        "#Regular Expressions\n",
        "\"A Regular Expression (RegEx) is a sequence of characters that defines a search pattern.\" ([source](https://www.programiz.com/python-programming/regex))\n",
        "\n",
        "To truly understand regular expressions, I recommend a tutorial like [RegexOne](https://regexone.com/). It is interactive and goes through many different aspects and functions of regular expressions or regex.\n",
        "\n",
        "When regex are used with programming languages, they vary a little bit with each language. This variation is often referred to as the flavor of regex. With Python we of course use the Python flavor of regex.\n",
        "\n",
        "Regular expressions are find or find and replace functions. We use them when we want to find (and possibly replace) specific things in a text. Perhaps we want to find all the words that start with an A or all the words that end in -ing. Regex makes this easy.\n",
        "\n",
        "For this part, if you are new to regex, I recommend that you do the RegexOne tutorial first and then continue on with the code in order to be able to construct your own regular expressions. Also, regular expressions is a complex topic and could easily be an entire course of its own. This notebook only takes up a few of the most common use cases so I recommend you do the tutorial and watch the tutorial videos linked to below for a comprehensive view of regex.\n",
        "\n",
        "Python for DH has two videos that deal with regex. You can find them [here](https://pythonhumanities.com/lesson-14-python-and-regex-part-01/) and [here](https://pythonhumanities.com/lesson-15-python-and-regex-part-02/).\n",
        "\n",
        "Another source for Python-specifique regex is [W3 schools](https://www.w3schools.com/python/python_regex.asp).\n",
        "\n",
        "When creating regular expressions, it can be a good idea to check your code on something like [regex101](https://regex101.com/) This is an online, interactive regex checker. Write your pattern in the pattern box, choose Python as your regex flavor, write or copy paste some sample text in the text box and you're ready to test your pattern. Once it does exactly what you want it to do, you can copy paste your pattern back to your Python code."
      ]
    },
    {
      "cell_type": "code",
      "metadata": {
        "id": "Q3NJEo0rxcdw"
      },
      "source": [
        "#The simplest regex patterns consist of alphanumeric characters\n",
        "import re\n",
        "#you can use both match and search\n",
        "#the difference is that match matches only the beginning of the string, search matches in the whole string\n",
        "\n",
        "#let's call all our regular expressions \"pattern\"s. Note the r before the quotation marks\n",
        "pattern = r\"cookie\" #change this to \"The\" and see what happens\n",
        "sequence = r\"The biggest monster is the Cookie Monster\" #let's call all the strng sequences we are searching \"sequence\"s\n",
        "\n",
        "if re.match(pattern, sequence):\n",
        "  print(\"Match!\")\n",
        "else: \n",
        "  print(\"Not a match!\")\n",
        "\n",
        "#you can do the same with re.search() \n",
        "if re.search(pattern, sequence):\n",
        "  print(\"Found!\")\n",
        "else: \n",
        "  print(\"Not found!\")"
      ],
      "execution_count": null,
      "outputs": []
    },
    {
      "cell_type": "code",
      "metadata": {
        "id": "Ytbvf_p8Uqiq"
      },
      "source": [
        "#Sometimes we want to know exactly what was found with our pattern\n",
        "pattern = r'\\w+'\n",
        "sequence = 'This is just an example.'\n",
        "matches = re.findall(pattern,sequence) #findall returns a list\n",
        "matches"
      ],
      "execution_count": null,
      "outputs": []
    },
    {
      "cell_type": "code",
      "metadata": {
        "id": "L2V_5Tj6TOhT"
      },
      "source": [
        "#Another common thing we might want to do is replace\n",
        "pattern = r'is'\n",
        "replacewith = r'are'\n",
        "sequence = 'Data is knowledge'\n",
        "matches = re.sub(pattern, replacewith,sequence)\n",
        "matches"
      ],
      "execution_count": null,
      "outputs": []
    },
    {
      "cell_type": "markdown",
      "metadata": {
        "id": "yBbbooLlcQtc"
      },
      "source": [
        "A \"neat\" thing you can do with regex is finding something and changing it. I.e. you are not replacing it with something completely new, but instead changing or adding to the original.\n"
      ]
    },
    {
      "cell_type": "code",
      "metadata": {
        "id": "NIMNOsBrcDhd"
      },
      "source": [
        "pattern = r'(\\w+)(\\s{2,})(\\.)' #Match instances where a word is followed by at least two space type characters and a period\n",
        "replacewith = r'\\g<1> !'\n",
        "sequence = 'This is a silly     . sentence pattern   . unlikely to be found in the wild     .'\n",
        "matches = re.sub(pattern, replacewith,sequence)\n",
        "matches"
      ],
      "execution_count": null,
      "outputs": []
    },
    {
      "cell_type": "markdown",
      "metadata": {
        "id": "JNh3MARqcggc"
      },
      "source": [
        "We use parentheses to create groups. These groups get an index from left to right starting with 1. The first group in our pattern matches any word, the second group matches two or more spaces, and the third group matches a literal period (Remember that \\ is used to escape special characters).\n",
        "\n",
        "So when we want to replace the spaces if there are more than two with a single space, and the period with an exclamation point, we can reference the first match with \\g<1> This allows us to keep the word the same while still matching it.\n",
        "\n",
        "**NB!** Regular expressions are extremely useful and important in programming and computer science in general. You can use them in any word processor to find and replace as well. Most search engines support regex too. It might be the most difficult part of your programming journey so far, but I highly recommend that you work hard on learning to use regex. Whatever you end up programming in the future, I can almost guarantee that you will end up having to use regex at some point."
      ]
    },
    {
      "cell_type": "markdown",
      "metadata": {
        "id": "fofsLvC_xRkd"
      },
      "source": [
        "#Text proccessing and corpus linguistics with Python\n",
        "\n",
        "When we are working with real world texts, that is texts that are not just clean example files created for teaching purposes, there are many preprocessing steps that need to be done.\n",
        "\n",
        "Some common issues include removing or replacing whitespace at the beginning and end of a file.\n",
        "\n",
        "Often our data is in txt or csv format. Usually we want to take a look at our data before we load it into Python. For text files a good program is [Sublime text](https://www.sublimetext.com/download) as it is free and available for Windows, OS X, and *nix. For CSV files, I recommend [TAD](https://www.tadviewer.com/). TAD is also free and avalaible for all the most common operating systems. With TAD you can open large csv files that are too large for Excel and similar programs. You cannot edit files with TAD, but you can filter data and export the filtered results.\n",
        "\n",
        "Encoding is also often an issue and can easily lead to garbled data. Try to use utf-8 encoding where possible."
      ]
    },
    {
      "cell_type": "markdown",
      "metadata": {
        "id": "LhHuGH-7xcsw"
      },
      "source": [
        "##NLTK\n",
        "###NLTK BOOK\n",
        "\n",
        "The Natural Language Toolkit is a comrehensive module for Python with many built-in tools that will help you automatically process and analyze texts.\n",
        "\n",
        "We will work with it in later weeks, but if you are really interested in language technology and natural language processing, feel free to read [the book](https://www.nltk.org/book/) and complete the exercises within.\n",
        "\n",
        "Parts of this NLTK section has been inspired by Dr. Na-Rae Han's [excellent tutorial](https://sites.pitt.edu/~naraehan/) on NLTK.\n",
        "\n",
        "NLTK comes preinstalled on colab, but on other platforms you have to pip install it before you can use it.\n",
        "\n",
        "Libraries and modules (sometimes also called packages) that are not built-in parts of Python need to be imported. This is done by using the import command. You can watch this Python for DH video for more information on [Python modules and libraries](https://pythonhumanities.com/lesson-13-python-modules-and-libraries/)."
      ]
    },
    {
      "cell_type": "code",
      "metadata": {
        "id": "0UbZZRruxeGI"
      },
      "source": [
        "import nltk\n",
        "#nltk comes with many different data sets, corpora, and tools that need to be separately downloaded and installed\n",
        "nltk.download() #you can see a list with this command"
      ],
      "execution_count": null,
      "outputs": []
    },
    {
      "cell_type": "code",
      "metadata": {
        "id": "Y3xJx3LOq398"
      },
      "source": [
        "#We can also just download everything\n",
        "nltk.download('all')"
      ],
      "execution_count": null,
      "outputs": []
    },
    {
      "cell_type": "markdown",
      "metadata": {
        "id": "CURa3wBlq-4J"
      },
      "source": [
        "Unfortunately, the downside of using colab is that we have to install these extra nltk parts every time we restart a runtime. But now we are good to go!\n",
        "\n",
        "###Tokenization\n",
        "\n",
        "Tokenization is a crucial part of almost any computational text analysis task. Tokenization means splitting the text into meaningful units like words or sentences."
      ]
    },
    {
      "cell_type": "code",
      "metadata": {
        "id": "TJdWbHvCuyjA"
      },
      "source": [
        "sample = \"This is a text. It contains a whole bunch of different words.\"\n",
        "tokens = nltk.word_tokenize(sample)\n",
        "tokens"
      ],
      "execution_count": null,
      "outputs": []
    },
    {
      "cell_type": "markdown",
      "metadata": {
        "id": "Ha0bnXoHvI6O"
      },
      "source": [
        "Most of NLTK's built-in corpora are pre-tokenzied. NLTK also provides many text analysis tools that often require the text to be of NLTK's own text data type. You can convert text like this:"
      ]
    },
    {
      "cell_type": "code",
      "metadata": {
        "id": "WZOt1UJzvHaI"
      },
      "source": [
        "ttext = nltk.Text(tokens)\n",
        "ttext"
      ],
      "execution_count": null,
      "outputs": []
    },
    {
      "cell_type": "markdown",
      "metadata": {
        "id": "j5oPriuAvx23"
      },
      "source": [
        "Let's take a look at the State of the Union corpus that comes with NLTK."
      ]
    },
    {
      "cell_type": "code",
      "metadata": {
        "id": "bfaurkOqvxBb"
      },
      "source": [
        "words = [w for w in nltk.corpus.state_union.words() if w.isalpha()]\n",
        "#Here we created a list of words from the corpus for all the words that are alphabetic, i.e. removed numbers and special characters.\n",
        "#We can also lower case everything in one go\n",
        "words = [w.lower() for w in nltk.corpus.state_union.words() if w.isalpha()]"
      ],
      "execution_count": null,
      "outputs": []
    },
    {
      "cell_type": "markdown",
      "metadata": {
        "id": "pKfKvoFYwQ6f"
      },
      "source": [
        "### stopwords\n",
        "Stopwords are words that are not considered to carry meaning. Depending on the purpose of your analysis, you might want to remove stopwords from your data. NLTK provides stopword lists for many different languages and you can also create your own.\n"
      ]
    },
    {
      "cell_type": "code",
      "metadata": {
        "id": "taxEGog3wirs"
      },
      "source": [
        "stopwords = nltk.corpus.stopwords.words(\"english\")\n",
        "words = [w.lower() for w in words if w.lower() not in stopwords]"
      ],
      "execution_count": null,
      "outputs": []
    },
    {
      "cell_type": "markdown",
      "metadata": {
        "id": "wCzsC2Ray1E4"
      },
      "source": [
        "We can also add part-of-speech tags to our text."
      ]
    },
    {
      "cell_type": "code",
      "metadata": {
        "id": "RMW-uGMzy1P5"
      },
      "source": [
        "pos_text = nltk.pos_tag(tokens)\n",
        "pos_text"
      ],
      "execution_count": null,
      "outputs": []
    },
    {
      "cell_type": "markdown",
      "metadata": {
        "id": "XssvjiLnzKBl"
      },
      "source": [
        "Let's use the original state of the union words to look at some of NLTK's built-in functions."
      ]
    },
    {
      "cell_type": "code",
      "metadata": {
        "id": "0yEdEXObzSSw"
      },
      "source": [
        "fd = nltk.FreqDist(words)\n",
        "fd #what you should see is a list of all the unique words in the text and the number of times they appear"
      ],
      "execution_count": null,
      "outputs": []
    },
    {
      "cell_type": "code",
      "metadata": {
        "id": "F6a9-3n6zis2"
      },
      "source": [
        "fd.most_common(5) #the 5 most common words"
      ],
      "execution_count": null,
      "outputs": []
    },
    {
      "cell_type": "code",
      "metadata": {
        "id": "CkfD4LH-zlxu"
      },
      "source": [
        "nltk.Text(words).similar(\"people\") #What words are the most similar to \"people\""
      ],
      "execution_count": null,
      "outputs": []
    },
    {
      "cell_type": "code",
      "metadata": {
        "id": "ZKVZ1mCP0BHr"
      },
      "source": [
        "nltk.Text(words).concordance(\"people\") #With what words do \"people\" co-occur?"
      ],
      "execution_count": null,
      "outputs": []
    },
    {
      "cell_type": "markdown",
      "metadata": {
        "id": "db8heYkm0V3e"
      },
      "source": [
        "##Spacy\n"
      ]
    }
  ]
}