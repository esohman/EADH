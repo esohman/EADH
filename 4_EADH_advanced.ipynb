{
  "nbformat": 4,
  "nbformat_minor": 0,
  "metadata": {
    "colab": {
      "name": "EADH-advanced.ipynb",
      "private_outputs": true,
      "provenance": [],
      "authorship_tag": "ABX9TyN9dYOHNNTJEfbCj/fzq6Qe",
      "include_colab_link": true
    },
    "kernelspec": {
      "name": "python3",
      "display_name": "Python 3"
    },
    "language_info": {
      "name": "python"
    }
  },
  "cells": [
    {
      "cell_type": "markdown",
      "metadata": {
        "id": "view-in-github",
        "colab_type": "text"
      },
      "source": [
        "<a href=\"https://colab.research.google.com/github/esohman/EADH/blob/main/4_EADH_advanced.ipynb\" target=\"_parent\"><img src=\"https://colab.research.google.com/assets/colab-badge.svg\" alt=\"Open In Colab\"/></a>"
      ]
    },
    {
      "cell_type": "markdown",
      "metadata": {
        "id": "SJ3yhyqeqXwj"
      },
      "source": [
        "#Advanced Python Notebook\n",
        "\n",
        "This is the advanced Python notebook. In this notebook you will learn about lambda functions, classification and machine learning, and finally about BERT.\n",
        "\n"
      ]
    },
    {
      "cell_type": "markdown",
      "metadata": {
        "id": "d9whVHGs3pDd"
      },
      "source": [
        "#More Spacy and intro to NLP\n",
        "[Data cleanup](https://www.kaggle.com/learn/data-cleaning) and preprocessing are important steps for almost any NLP (Natural Language Processing) task.\n",
        "\n",
        "Go back to the beginner notebook for a refresher if you have forgotten about tokenization and lemmatization and check out the link above for more information on cleaning up dataframes.\n",
        "\n",
        "[Another great source for all things \"Applied NLP\" is the Applied Language Technology videos and course website.](https://applied-language-technology.readthedocs.io/en/latest/index.html)\n",
        "\n",
        "There is also an [introduction to NLP tutorial](https://www.kaggle.com/learn/natural-language-processing) on Kaggle.\n"
      ]
    },
    {
      "cell_type": "markdown",
      "metadata": {
        "id": "t0DYCCWAVt2T"
      },
      "source": [
        "#Vectors with spaCy"
      ]
    },
    {
      "cell_type": "code",
      "metadata": {
        "id": "PlEY8NhfVvtQ"
      },
      "source": [
        ""
      ],
      "execution_count": null,
      "outputs": []
    },
    {
      "cell_type": "markdown",
      "metadata": {
        "id": "vyoKXReUql7T"
      },
      "source": [
        "## Machine Learning and Classification tasks\n"
      ]
    },
    {
      "cell_type": "code",
      "metadata": {
        "id": "G-RckPCvqri5"
      },
      "source": [
        ""
      ],
      "execution_count": null,
      "outputs": []
    },
    {
      "cell_type": "markdown",
      "metadata": {
        "id": "FNQ-d56Pqqn_"
      },
      "source": [
        "##BERT & other large language models\n",
        "BERT is perhaps the most famous large language model (LLM)."
      ]
    },
    {
      "cell_type": "code",
      "metadata": {
        "id": "RdhUtReNqtYO"
      },
      "source": [
        ""
      ],
      "execution_count": null,
      "outputs": []
    },
    {
      "cell_type": "markdown",
      "metadata": {
        "id": "WV-i3uT1-c0x"
      },
      "source": [
        "##Lambda functions"
      ]
    },
    {
      "cell_type": "code",
      "metadata": {
        "id": "owpp7v40F8Z1"
      },
      "source": [
        ""
      ],
      "execution_count": null,
      "outputs": []
    },
    {
      "cell_type": "markdown",
      "metadata": {
        "id": "gNUmECMnVslA"
      },
      "source": [
        "#Classes\n",
        "Classes are a curious thing. They are an essential part of object oriented programming languages, but at the same time, you can get away with never using them if you are working on more script-like Python.\n",
        "\n",
        "Some Python courses include classes in the very first weeks or chapters, others never talk about them, and others again mention them later on.\n",
        "\n",
        "You can build quite complex projects without needing classes, but you should still understand how they work in order to make an educated decision about whether you should be using classes or not.\n",
        "\n",
        "So the final part of these notebooks, is an overview of how classes work and are used in Python."
      ]
    },
    {
      "cell_type": "code",
      "metadata": {
        "id": "TfjiYfxFVtpy"
      },
      "source": [
        ""
      ],
      "execution_count": null,
      "outputs": []
    }
  ]
}