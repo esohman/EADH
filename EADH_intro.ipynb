{
  "nbformat": 4,
  "nbformat_minor": 0,
  "metadata": {
    "colab": {
      "name": "EADH-intro.ipynb",
      "provenance": [],
      "collapsed_sections": [],
      "toc_visible": true,
      "mount_file_id": "1kb23ARCbTSlClNQ9iZ-fHO6KHeNMiFmy",
      "authorship_tag": "ABX9TyM3C85udavKBMJdjwsz6TPI",
      "include_colab_link": true
    },
    "kernelspec": {
      "name": "python3",
      "display_name": "Python 3"
    }
  },
  "cells": [
    {
      "cell_type": "markdown",
      "metadata": {
        "id": "view-in-github",
        "colab_type": "text"
      },
      "source": [
        "<a href=\"https://colab.research.google.com/github/esohman/EADH/blob/main/EADH_intro.ipynb\" target=\"_parent\"><img src=\"https://colab.research.google.com/assets/colab-badge.svg\" alt=\"Open In Colab\"/></a>"
      ]
    },
    {
      "cell_type": "markdown",
      "metadata": {
        "id": "1JKDnPvdKKlj"
      },
      "source": [
        "# Introduction to Python for Digital Humanities"
      ]
    },
    {
      "cell_type": "markdown",
      "metadata": {
        "id": "onmI-srxSd5b"
      },
      "source": [
        "Welcome to the introduction to Python for Digital Humanities notebook.\n",
        "This notebook has been created by Emily Öhman, Assistant Professor of Digital Humanities at Waseda University, Japan, and funded by the European Association for Digital Humanities. This is the pre-release version. Changes are possible.\n",
        "\n",
        "This is the first step to learning Python. The target audience for these tutorials is digital humanities, and other cross-disciplinary scholars and students who are not aiming to become programmers as such, but who wish to gain code literacy and the tools to do most of the computational side of their research themselves.\n",
        "\n",
        "If you already know the basics of Python you can move onto the next notebook (Beginner, Intermediate, or Advanced). If you know another programming language, you can use this notebook as a quick guide to Python syntax.\n",
        "\n",
        "There are many online tutorials and courses out there, some of them are even aimed at digital humanities scholars. This notebook differs from those in at least three respects: 1) There is a clear progression from total beginner up to machine learning, 2) it is interactive and requires no installations, 3) existing tools are linked to in order to minimize unecessary overlap.\n",
        "\n",
        "This notebook gives a cursory overview of Python concepts with links to more in-depth sources of information. For this first part, most of the links will be to the [w3schools Python page](https://www.w3schools.com/python/default.asp). This is a great free resource that lists all the basic functionalities of Python and allows you to run example code directly in your browser.\n",
        "\n",
        "This first notebook covers the topics of:\n",
        "\n",
        "1. Introduction to different data types and the basics of programming.\n",
        "2. Introduction to loops.\n",
        "3. Using packages, opening, modifying, and saving files.\n",
        "\n",
        "You can run Python code using a terminal-based application or an interpreter, or a notebook such as this. Most things work exactly the same whether you run them here or somewhere else. The code is identical.\n",
        "\n",
        "**To run code** on this notebook you should save a copy to your own drive (File -> save a copy in Drive) or if you don't have a Google account, you can use this notebook in Jupyter notebook. Once you've done that you can start playing with it. We recommend saving this notebook in your Drive and using it with Google Colab for simplicity and ease.\n",
        "\n",
        "Click on the \"play\" button on the left side of the next 'box', these boxes are refered to as cells. (The button appears when you hover your cursor over the [    ] brackets.) Or choose Runtime -> and then the appropriate choice.\n",
        "\n",
        "There's a lot of information in the beginning. These are concepts we will come back to over and over again and you do not need to remember everything from the get go."
      ]
    },
    {
      "cell_type": "markdown",
      "metadata": {
        "id": "BFaLoeA4VEo-"
      },
      "source": [
        "## The first code\n",
        "\n",
        "The cell below this one is a code cell.\n",
        "```\n",
        "# the hashtag indicates a comment. \n",
        "#This will not be interpreted as code and can be used to clarify code\n",
        "```\n",
        "The only code here is \n",
        "````\n",
        "1+2\n",
        "````\n",
        "As a sidenote, if you run your code as a script in a terminal, you will need to specify that you want to print to console. On notebooks such as these, everything is output by default. We will return to the print function later, but for starters, to print the results of 1+2 in a terminal environment, you would type:\n",
        "```\n",
        "print(1+2)\n",
        "```\n"
      ]
    },
    {
      "cell_type": "code",
      "metadata": {
        "id": "XMnM8K1pqihs",
        "colab": {
          "base_uri": "https://localhost:8080/"
        },
        "outputId": "2cf18bb4-fa99-4193-ef60-26e799aed1b3"
      },
      "source": [
        "#You can change these numbers to whatever you want. Click the \"play\" button again to get the answer.\n",
        "#btw, the hashtag indicates a comment that is to be ignored by the interpreter \n",
        "#comments make code easier to understand as you can explain in plain language what your code does\n",
        "\n",
        "#here we are simply adding 1 and 2, click play for results\n",
        "print(1+4)"
      ],
      "execution_count": null,
      "outputs": [
        {
          "output_type": "stream",
          "name": "stdout",
          "text": [
            "5\n"
          ]
        }
      ]
    },
    {
      "cell_type": "markdown",
      "metadata": {
        "id": "gZsIohlcdmK9"
      },
      "source": [
        "Python syntax is minimalistic compared to many other programming languages. You can read more about the basics of Python syntax here: https://www.w3schools.com/python/python_syntax.asp\n",
        "\n",
        "One important thing to note is that Python uses indentation (four spaces, or one tab) to show what belongs with what. This is very important for code functionality and inmost cases your code will not even run if you are using the wrong indentation. We will discuss this more in later sections, but for now, all our code will be on the same \"level\" and therefore no indentation is necessary."
      ]
    },
    {
      "cell_type": "markdown",
      "metadata": {
        "id": "1VqijuvwWzj2"
      },
      "source": [
        "### Variables and the print function\n",
        "To do the same thing using variables:\n",
        "we can store the values 1 and 2 respectively in variables. Let's call these variables a and b. In most programming languages, including Python, values are assigned using a single 'equals sign': =\n",
        "\n",
        "You can read more about variables here: https://www.w3schools.com/python/python_variables.asp"
      ]
    },
    {
      "cell_type": "code",
      "metadata": {
        "id": "2caAaz7NtBHT",
        "colab": {
          "base_uri": "https://localhost:8080/"
        },
        "outputId": "9d7cc396-3c8a-4af4-ca49-2f22a93207d3"
      },
      "source": [
        "a = 1  #a and b are called variables. Here we assign them values. \n",
        "b = 2 #the value of a is now '1' and the value of b is now '2'\n",
        "print(a+b) #In most environments in order for our program to print any results to the screen, we need to use the print function.\n",
        "print('The result of ' + str(a) + '+' + str(b) + ' is: ' + str(a+b)) #You can print it like this\n",
        "print(f'The result of {a}+{b} is: {a+b}')  #But it's usually much easier to do it like this:\n",
        "\n",
        "#Let's change the value of one of the variables\n",
        "a = 5\n",
        "print(f'The result of {a}+{b} is: {a+b}')  #Let's print it again."
      ],
      "execution_count": null,
      "outputs": [
        {
          "output_type": "stream",
          "name": "stdout",
          "text": [
            "3\n",
            "The result of 1+2 is: 3\n",
            "The result of 1+2 is: 3\n",
            "The result of 5+2 is: 7\n"
          ]
        }
      ]
    },
    {
      "cell_type": "markdown",
      "metadata": {
        "id": "k3sd7l7kcMSV"
      },
      "source": [
        "The print command prints whatever you tell it to print. You use it with parentheses. As you can see, we used two slightly different print commands:\n",
        "```\n",
        "print()\n",
        "```\n",
        "and\n",
        "```\n",
        "print(f'')\n",
        "```\n",
        "The benefit of using print(f'') is that you can easily combine different datatypes and even operations when printing. When using print(f'') you can use curly brackets to print variables within the string. In this tutorial we will mainly be using print(f'').\n",
        "\n",
        "If you want to print actual text (i.e. not variables) you need to use quotation marks, single or double both work."
      ]
    },
    {
      "cell_type": "code",
      "metadata": {
        "id": "VRVgAkKvHFLw",
        "colab": {
          "base_uri": "https://localhost:8080/"
        },
        "outputId": "ed3c250a-3b09-4f68-8208-b43c6775d840"
      },
      "source": [
        "print('Hello!')"
      ],
      "execution_count": null,
      "outputs": [
        {
          "output_type": "stream",
          "name": "stdout",
          "text": [
            "Hello!\n"
          ]
        }
      ]
    },
    {
      "cell_type": "markdown",
      "metadata": {
        "id": "4Hbw7x1hWZ3q"
      },
      "source": [
        "You have probably noticed that different words appear in different colors. This is a design feature of most interpreters. Literals, variables, functions, comments, etc. all appear in different colors to make code more legible to humans."
      ]
    },
    {
      "cell_type": "markdown",
      "metadata": {
        "id": "z2AI4R2Yr8uF"
      },
      "source": [
        "#Datatypes\n",
        "Almost all programming languages have different data types. You an read more about data types in Python here: https://www.w3schools.com/python/python_datatypes.asp \n",
        "\n",
        "The most basic types are:\n"
      ]
    },
    {
      "cell_type": "markdown",
      "metadata": {
        "id": "FAwdludXiCo5"
      },
      "source": [
        "##Integers \n",
        "Whole numbers, no decimals. (By clicking 'play' you are assigning the given values to the variables. If you do not click 'play', the variables int_a etc will be undefined and the program will not know what they mean and will return an error.)"
      ]
    },
    {
      "cell_type": "code",
      "metadata": {
        "id": "Q8m6AEP3iCCf"
      },
      "source": [
        "int_a = 1\n",
        "int_b = 5\n",
        "int_c = -5"
      ],
      "execution_count": null,
      "outputs": []
    },
    {
      "cell_type": "markdown",
      "metadata": {
        "id": "4kzL3iTdiIbt"
      },
      "source": [
        "\n",
        "##Floats \n",
        "Numbers with decimals. Note that the decimal point is a period, not a comma."
      ]
    },
    {
      "cell_type": "code",
      "metadata": {
        "id": "u-GGuhYBiJ56"
      },
      "source": [
        "fl_a = 0.1234\n",
        "fl_b = -5.78899\n",
        "fl_c = 1234.6543"
      ],
      "execution_count": null,
      "outputs": []
    },
    {
      "cell_type": "markdown",
      "metadata": {
        "id": "Esi5cVBuX3_M"
      },
      "source": [
        "Floats, integers and other numerical types support all basic mathematical operations. Note that when mixing numerical types like integers and floats, the result will be a float."
      ]
    },
    {
      "cell_type": "code",
      "metadata": {
        "id": "ufGGlNNdX1vR",
        "colab": {
          "base_uri": "https://localhost:8080/"
        },
        "outputId": "3f606903-0e63-4d28-ab0d-0e33eda27f06"
      },
      "source": [
        "print('Addition: ', int_a + fl_a)\n",
        "print('Substraction: ', fl_b - fl_c)\n",
        "print('Multiplication: ', int_c * fl_c)\n",
        "print('Division: ', fl_c / int_c)\n",
        "print('Exponentiation: ', int_b ** int_a)"
      ],
      "execution_count": null,
      "outputs": [
        {
          "output_type": "stream",
          "text": [
            "Addition:  1.1234\n",
            "Substraction:  -1240.44329\n",
            "Multiplication:  -6173.2715\n",
            "Division:  -246.93086\n",
            "Exponentiation:  5\n"
          ],
          "name": "stdout"
        }
      ]
    },
    {
      "cell_type": "code",
      "metadata": {
        "id": "YojOT5QnZMLn",
        "colab": {
          "base_uri": "https://localhost:8080/",
          "height": 181
        },
        "outputId": "3e612bb0-d868-47d1-f89f-82c8d7951a07"
      },
      "source": [
        "# Be careful not to divide by zero!\n",
        "int_a / 0"
      ],
      "execution_count": null,
      "outputs": [
        {
          "output_type": "error",
          "ename": "ZeroDivisionError",
          "evalue": "ignored",
          "traceback": [
            "\u001b[0;31m---------------------------------------------------------------------------\u001b[0m",
            "\u001b[0;31mZeroDivisionError\u001b[0m                         Traceback (most recent call last)",
            "\u001b[0;32m<ipython-input-4-c650ca4771a0>\u001b[0m in \u001b[0;36m<module>\u001b[0;34m()\u001b[0m\n\u001b[1;32m      1\u001b[0m \u001b[0;31m# Be careful not to divide by zero!\u001b[0m\u001b[0;34m\u001b[0m\u001b[0;34m\u001b[0m\u001b[0;34m\u001b[0m\u001b[0m\n\u001b[0;32m----> 2\u001b[0;31m \u001b[0mint_a\u001b[0m \u001b[0;34m/\u001b[0m \u001b[0;36m0\u001b[0m\u001b[0;34m\u001b[0m\u001b[0;34m\u001b[0m\u001b[0m\n\u001b[0m",
            "\u001b[0;31mZeroDivisionError\u001b[0m: division by zero"
          ]
        }
      ]
    },
    {
      "cell_type": "markdown",
      "metadata": {
        "id": "NA5QuDRODRqj"
      },
      "source": [
        "Notice how the error message tells you what kind of error this is and gives you extra details about it as well (alhtough in this case it is quite straight-forward). It also shows where the error happened in the code under \"Traceback\" (sometimes this can occur in code that you have imported from an other library, this typically means that there is something off about your datatype) and draws a red squiggly line under the error in the code cell.\n",
        "\n",
        "Whether you are running this code on Colab or your own computer (in the terminal, using PyCharm or VSCode), the error message will still look pretty much the same."
      ]
    },
    {
      "cell_type": "markdown",
      "metadata": {
        "id": "Z_7M1D3uI8LT"
      },
      "source": [
        "##Strings\n",
        "Strings are basically text. The text can include numbers.\n",
        "Strings are defined using either simple or double quotation marks.\n"
      ]
    },
    {
      "cell_type": "code",
      "metadata": {
        "id": "jPcNvTaAaV7n"
      },
      "source": [
        "string_a = '' # this is an empty string\n",
        "string_b = 'Awesomeness!' #this is a non-empty string"
      ],
      "execution_count": null,
      "outputs": []
    },
    {
      "cell_type": "code",
      "metadata": {
        "id": "qdnAPAqJI6as",
        "colab": {
          "base_uri": "https://localhost:8080/",
          "height": 52
        },
        "outputId": "b3cbb53b-278c-4259-aea3-816fb7423f56"
      },
      "source": [
        "'This is a string. It can be long or short. It can include numbers like 10. It can also inlcude \"quotations marks\", they just have to be different from the main quotation marks.'"
      ],
      "execution_count": null,
      "outputs": [
        {
          "output_type": "execute_result",
          "data": {
            "application/vnd.google.colaboratory.intrinsic+json": {
              "type": "string"
            },
            "text/plain": [
              "'This is a string. It can be long or short. It can include numbers like 10. It can also inlcude \"quotations marks\", they just have to be different from the main quotation marks.'"
            ]
          },
          "metadata": {},
          "execution_count": 5
        }
      ]
    },
    {
      "cell_type": "markdown",
      "metadata": {
        "id": "GFlA61u6JMuW"
      },
      "source": [
        "Strings can be added and multiplied, much like numbers:"
      ]
    },
    {
      "cell_type": "code",
      "metadata": {
        "id": "ShZVdhj7JL06",
        "colab": {
          "base_uri": "https://localhost:8080/"
        },
        "outputId": "24415e04-1114-45c5-a92c-561d500fc297"
      },
      "source": [
        "a = 'kitty'\n",
        "print(a + 'cat')\n",
        "print(a*10)"
      ],
      "execution_count": null,
      "outputs": [
        {
          "output_type": "stream",
          "name": "stdout",
          "text": [
            "kittycat\n",
            "kittykittykittykittykittykittykittykittykittykitty\n"
          ]
        }
      ]
    },
    {
      "cell_type": "markdown",
      "metadata": {
        "id": "sT7qCyuNJq2J"
      },
      "source": [
        "All elements of a string have indexes. These start from 0. You can access elements of a string using positive or negative numbers within square brakets. You can also slice a string using square brackets and colons.\n",
        "\n",
        "**All indexes in Python start at 0. The first element of a list or string is always 0. In a list of 10 items, the indexes run from 0-9.**\n",
        "\n",
        "You can read more about strings and \"slicing\" (using square brackets to access different parts of a string) here: https://www.w3schools.com/python/python_strings.asp"
      ]
    },
    {
      "cell_type": "code",
      "metadata": {
        "id": "M5vHN8vjJfep",
        "colab": {
          "base_uri": "https://localhost:8080/"
        },
        "outputId": "4526abf1-bab4-405e-fa0b-f52bdc7d41e5"
      },
      "source": [
        "string = 'kittycat'\n",
        "print('First letter: ', string[0])\n",
        "print('Last letter: ', string[-1])\n",
        "print('Length of the string: ', len(string))\n",
        "print('Some slices: ', string[:6], string[::2])"
      ],
      "execution_count": null,
      "outputs": [
        {
          "output_type": "stream",
          "text": [
            "First letter:  k\n",
            "Last letter:  t\n",
            "Length of the string:  8\n",
            "Some slices:  kitty ktya\n"
          ],
          "name": "stdout"
        }
      ]
    },
    {
      "cell_type": "markdown",
      "metadata": {
        "id": "nR2oEYo5ijxn"
      },
      "source": [
        "**NB!** Notice that you do not have to explicitly state the type of a variable in Python. Python understands that you mean a string when you use quotes, integers if the number has no decimal points, floats if there are decimal points, list if you use square brackets, dictionaries when you use curly brackets etc."
      ]
    },
    {
      "cell_type": "code",
      "metadata": {
        "id": "6XNRKQagiiTS"
      },
      "source": [
        "# This will automatically be interpreted as a string:\n",
        "s = 'a'\n",
        "\n",
        "# This will automatically be interpreted as an integer:\n",
        "i = 3"
      ],
      "execution_count": null,
      "outputs": []
    },
    {
      "cell_type": "markdown",
      "metadata": {
        "id": "LiUKvxoXjM9O"
      },
      "source": [
        "Sometimes you can change the variable's type:\n",
        "\n",
        "https://www.w3schools.com/python/python_casting.asp"
      ]
    },
    {
      "cell_type": "code",
      "metadata": {
        "id": "AA3aKRTUjKqw",
        "colab": {
          "base_uri": "https://localhost:8080/"
        },
        "outputId": "9a6c6d8c-b9e5-47ed-b154-3cd3ce3aec66"
      },
      "source": [
        "# Turn an integer into a string\n",
        "str(i)\n",
        "type(str(i))"
      ],
      "execution_count": null,
      "outputs": [
        {
          "output_type": "execute_result",
          "data": {
            "text/plain": [
              "str"
            ]
          },
          "metadata": {
            "tags": []
          },
          "execution_count": 10
        }
      ]
    },
    {
      "cell_type": "code",
      "metadata": {
        "id": "Yg-glecTjX2U",
        "colab": {
          "base_uri": "https://localhost:8080/",
          "height": 198
        },
        "outputId": "b1377709-0783-4c7a-e672-9345d7e67e36"
      },
      "source": [
        "# Sometimes, however, it won't work:\n",
        "int(s)\n",
        "#Can you figure out why?"
      ],
      "execution_count": null,
      "outputs": [
        {
          "output_type": "error",
          "ename": "ValueError",
          "evalue": "ignored",
          "traceback": [
            "\u001b[0;31m---------------------------------------------------------------------------\u001b[0m",
            "\u001b[0;31mValueError\u001b[0m                                Traceback (most recent call last)",
            "\u001b[0;32m<ipython-input-8-3eca4e4833fc>\u001b[0m in \u001b[0;36m<module>\u001b[0;34m()\u001b[0m\n\u001b[1;32m      1\u001b[0m \u001b[0;31m# Sometimes, however, it won't work:\u001b[0m\u001b[0;34m\u001b[0m\u001b[0;34m\u001b[0m\u001b[0;34m\u001b[0m\u001b[0m\n\u001b[0;32m----> 2\u001b[0;31m \u001b[0mint\u001b[0m\u001b[0;34m(\u001b[0m\u001b[0ms\u001b[0m\u001b[0;34m)\u001b[0m\u001b[0;34m\u001b[0m\u001b[0;34m\u001b[0m\u001b[0m\n\u001b[0m\u001b[1;32m      3\u001b[0m \u001b[0;31m#Can you figure out why?\u001b[0m\u001b[0;34m\u001b[0m\u001b[0;34m\u001b[0m\u001b[0;34m\u001b[0m\u001b[0m\n",
            "\u001b[0;31mValueError\u001b[0m: invalid literal for int() with base 10: 'a'"
          ]
        }
      ]
    },
    {
      "cell_type": "markdown",
      "metadata": {
        "id": "1axazG9CK9Ob"
      },
      "source": [
        "## Booleans  \n",
        "Statements that can be True or False. Note that you have to capitalize the first letter. You can not give a variable a name such as True or False. These are known as reserved keywords: https://www.w3schools.com/python/python_ref_keywords.asp\n",
        "\n",
        "Also note that in most cases it is not possible to use other definitions as keywords either. This would include 'int' 'str' etc; basically words that are used for other things as built-in parts of Python.\n",
        "\n",
        "You can read more about Booleans and how to use them here:https://www.w3schools.com/python/python_booleans.asp\n"
      ]
    },
    {
      "cell_type": "code",
      "metadata": {
        "id": "kFLsFpb8Pvx2"
      },
      "source": [
        "t = True\n",
        "f = False"
      ],
      "execution_count": null,
      "outputs": []
    },
    {
      "cell_type": "code",
      "metadata": {
        "id": "XuryN6TlLDiy",
        "colab": {
          "base_uri": "https://localhost:8080/"
        },
        "outputId": "520cc04e-dbe7-4a03-d67a-81b6d0b0bcbf"
      },
      "source": [
        "# Remember: string = 'kittycat'\n",
        "hello = string[-1] != string[6] #so the last character of the string is the same as the eighth character\n",
        "print(hello)"
      ],
      "execution_count": null,
      "outputs": [
        {
          "output_type": "stream",
          "text": [
            "True\n"
          ],
          "name": "stdout"
        }
      ]
    },
    {
      "cell_type": "code",
      "metadata": {
        "id": "27KJEWRoLOMn",
        "colab": {
          "base_uri": "https://localhost:8080/"
        },
        "outputId": "196b9a22-2d07-4f42-a2eb-41f749e926b0"
      },
      "source": [
        "bool_false = len(string) == 7\n",
        "print(bool_false)\n",
        "print(len(string))\n",
        "#How \"long\" (how many characters are there) is string? How would you check that?"
      ],
      "execution_count": null,
      "outputs": [
        {
          "output_type": "stream",
          "text": [
            "False\n",
            "8\n"
          ],
          "name": "stdout"
        }
      ]
    },
    {
      "cell_type": "markdown",
      "metadata": {
        "id": "TAH6oqHiOQxp"
      },
      "source": [
        "You noticed that we used single and double equal signs in the same lines. In Python, **one \"=\" sign** is used to assign a value to a variable, whereas **double \"==\" sign** is used to compare values. The double equals sign can be interpreted as an \"is\" statement. The opposite of \"==\", or an \"is not\" statenemt sign would be **\"!=\"**."
      ]
    },
    {
      "cell_type": "code",
      "metadata": {
        "id": "vq2dfmQyPGES"
      },
      "source": [
        "var = 'variable'"
      ],
      "execution_count": null,
      "outputs": []
    },
    {
      "cell_type": "code",
      "metadata": {
        "id": "sFCy7E4rPLCm",
        "colab": {
          "base_uri": "https://localhost:8080/"
        },
        "outputId": "d677c92c-e323-48b1-91e4-6d4728283cfd"
      },
      "source": [
        "var == 'variable' #This is obviously True since we defined it as such in the previous cell"
      ],
      "execution_count": null,
      "outputs": [
        {
          "output_type": "execute_result",
          "data": {
            "text/plain": [
              "True"
            ]
          },
          "metadata": {},
          "execution_count": 15
        }
      ]
    },
    {
      "cell_type": "code",
      "metadata": {
        "id": "gZNKdwJaPNwD",
        "colab": {
          "base_uri": "https://localhost:8080/"
        },
        "outputId": "02d87593-e38a-41c1-978d-95e192802108"
      },
      "source": [
        "# you can use the type() function in Python to check the variable's type. The \"var\" variable here is a string.\n",
        "type(var) == int"
      ],
      "execution_count": null,
      "outputs": [
        {
          "output_type": "execute_result",
          "data": {
            "text/plain": [
              "False"
            ]
          },
          "metadata": {
            "tags": []
          },
          "execution_count": 23
        }
      ]
    },
    {
      "cell_type": "code",
      "metadata": {
        "id": "6lzQz7ohPQUU",
        "colab": {
          "base_uri": "https://localhost:8080/"
        },
        "outputId": "a0efa616-561a-45ed-a4c7-5e3f78e9f2e9"
      },
      "source": [
        "type(var) is str"
      ],
      "execution_count": null,
      "outputs": [
        {
          "output_type": "execute_result",
          "data": {
            "text/plain": [
              "True"
            ]
          },
          "metadata": {
            "tags": []
          },
          "execution_count": 24
        }
      ]
    },
    {
      "cell_type": "code",
      "metadata": {
        "id": "t9eJOOsOPUMO",
        "colab": {
          "base_uri": "https://localhost:8080/"
        },
        "outputId": "8a5f3eae-e763-4543-ce22-1040d8fee431"
      },
      "source": [
        "type(var) is not float"
      ],
      "execution_count": null,
      "outputs": [
        {
          "output_type": "execute_result",
          "data": {
            "text/plain": [
              "True"
            ]
          },
          "metadata": {
            "tags": []
          },
          "execution_count": 25
        }
      ]
    },
    {
      "cell_type": "code",
      "metadata": {
        "id": "bAm9BC-QXNpU",
        "colab": {
          "base_uri": "https://localhost:8080/"
        },
        "outputId": "8a6c5e64-82fc-4b92-cb53-08741a3703fb"
      },
      "source": [
        "type(var) != str"
      ],
      "execution_count": null,
      "outputs": [
        {
          "output_type": "execute_result",
          "data": {
            "text/plain": [
              "False"
            ]
          },
          "metadata": {
            "tags": []
          },
          "execution_count": 26
        }
      ]
    },
    {
      "cell_type": "markdown",
      "metadata": {
        "id": "3yD8P8tRAegP"
      },
      "source": [
        "## Printing output\n",
        "print() is the basic output format in Python. However, it is rather complicated and cumbersome to print more than single variables using just print(). Therefore we'll now learn to use print(f'') instead.\n",
        "\n",
        "print(f'') allows us to seamlessly include variables and even functions into our output."
      ]
    },
    {
      "cell_type": "code",
      "metadata": {
        "colab": {
          "base_uri": "https://localhost:8080/"
        },
        "id": "zWOQpZIDA9rV",
        "outputId": "9b365cd2-a472-4795-82e1-1d2afb69e42d"
      },
      "source": [
        "g = 'words'\n",
        "n = 2\n",
        "m = 4\n",
        "print('I want to print my variables' + g + str(n) + str(m)) #How can you fix this error?\n",
        "print('I want to print my variables\\n' + 'This is g: '+ g + ' This is n: '+ str(n) + 'This is m: '+ str(m)) #How can you fix this error?\n",
        "print(f'I want to print my variables. This is g: {g}, this is n: {n} and this is m: {m} This is n+m: {n+m} and this n*g: {n*g}')"
      ],
      "execution_count": null,
      "outputs": [
        {
          "output_type": "stream",
          "text": [
            "I want to print my variableswords24\n",
            "I want to print my variables\n",
            "This is g: words This is n: 2This is m: 4\n",
            "I want to print my variables. This is g: words, this is n: 2 and this is m: 4 This is n+m: 6 and this n*g: wordswords\n"
          ],
          "name": "stdout"
        }
      ]
    },
    {
      "cell_type": "markdown",
      "metadata": {
        "id": "Nf4xmEO1JDV0"
      },
      "source": [
        "\n",
        "##Lists\n",
        "This data type is used to group values together. You can store practically any objects in lists. Lists are defined using square brackets, and elements are separated using a comma. List indexes start from 0 so that the first element of a list had index 0 and not 1, the second element has index 1, etc.\n",
        "\n",
        "Lists are also good when you don't know how big your output will be as you can always add more elements to your list. A list can consists of any type of data. You can have a list of integers, strings or a combination of both. You can also have a list of lists or a list of dictionaries etc.\n",
        "\n",
        "You can read more lists and how you can manipulate lists here: \n",
        "https://www.w3schools.com/python/python_lists_add.asp"
      ]
    },
    {
      "cell_type": "code",
      "metadata": {
        "id": "ewoZWYzVQCYT",
        "colab": {
          "base_uri": "https://localhost:8080/"
        },
        "outputId": "e3499a52-d4ea-40e7-dd4b-0a94d0248ce7"
      },
      "source": [
        "# This is a list of integers\n",
        "l = [1, 2, 3]\n",
        "\n",
        "# This is a list of lists (that was unintentionally made to look like a matrix)\n",
        "ll = [[1, 2, 3], [4, 5, 6], [7, 8, 9]]\n",
        "print(len(ll))\n",
        "# And this is a list of all kinds of things!\n",
        "misc = [0, 1 == 1.0, type('cat')]\n",
        "print(misc)"
      ],
      "execution_count": null,
      "outputs": [
        {
          "output_type": "stream",
          "text": [
            "3\n",
            "[0, True, <class 'str'>]\n"
          ],
          "name": "stdout"
        }
      ]
    },
    {
      "cell_type": "markdown",
      "metadata": {
        "id": "sX7WFXAaRaeF"
      },
      "source": [
        "Lists also support indexing, just like strings, and you can access elements of a list by number using square brackets."
      ]
    },
    {
      "cell_type": "code",
      "metadata": {
        "id": "GZM7Tp_QROX1",
        "colab": {
          "base_uri": "https://localhost:8080/"
        },
        "outputId": "8f663ec0-8dba-4292-d171-07c15add63f3"
      },
      "source": [
        "print(l[0])\n",
        "print(ll[-1])\n",
        "\n",
        "# In the following statement [0, 0, 0] is a list and [0] is an index \n",
        "print([0, 0, 0][0])"
      ],
      "execution_count": null,
      "outputs": [
        {
          "output_type": "stream",
          "text": [
            "1\n",
            "[7, 8, 9]\n",
            "0\n"
          ],
          "name": "stdout"
        }
      ]
    },
    {
      "cell_type": "markdown",
      "metadata": {
        "id": "BXihGhSHzxT0"
      },
      "source": [
        "## The Basics of Loops\n",
        "[Here is a good interactive tutorial on loops in Python.](https://www.learnpython.org/en/Loops) Feel free to explore.\n",
        "\n",
        "The classic loops are *for* and *while*.\n",
        "Basically a for loop iterates over every item in a given sequence such as characters in a string or item in a list. We will mainly be using the *for* loop on this course, but you should be aware of the *while* loop too.\n",
        "\n",
        "\n",
        "```\n",
        "for item in sequence:\n",
        "  do something\n",
        "```\n",
        "\n",
        "\n",
        "A while loop loops as long as its basic, boolean, condition is met.\n",
        "\n",
        "\n",
        "\n",
        "```\n",
        "while True:\n",
        "  do something\n",
        "```\n",
        "\n",
        "Closely related to loops are *if-statements*, these are conditional statements where certain code is executed only if the conditions are met.\n",
        "\n",
        "\n",
        "\n",
        "```\n",
        "if True: #e.g. a==b\n",
        "  then do something\n",
        "elif something else is True\"\n",
        "  do something else\n",
        "else\n",
        "  do something else or do nothing\n",
        "```\n",
        "\n",
        "\n"
      ]
    },
    {
      "cell_type": "code",
      "metadata": {
        "colab": {
          "base_uri": "https://localhost:8080/"
        },
        "id": "rQg1_9HkZcyQ",
        "outputId": "cd1e0c7a-b38f-4745-b137-86c2a19c45f4"
      },
      "source": [
        "counter = 0\n",
        "while counter < 10:\n",
        "  print(counter)\n",
        "  counter += 1"
      ],
      "execution_count": null,
      "outputs": [
        {
          "output_type": "stream",
          "text": [
            "0\n",
            "1\n",
            "2\n",
            "3\n",
            "4\n",
            "5\n",
            "6\n",
            "7\n",
            "8\n",
            "9\n"
          ],
          "name": "stdout"
        }
      ]
    },
    {
      "cell_type": "code",
      "metadata": {
        "colab": {
          "base_uri": "https://localhost:8080/"
        },
        "id": "JwXfF6DHZmFe",
        "outputId": "52698cbe-f0c2-4f74-e898-cd25c64db2f8"
      },
      "source": [
        "for i in range(10):\n",
        "  print(i)"
      ],
      "execution_count": null,
      "outputs": [
        {
          "output_type": "stream",
          "text": [
            "0\n",
            "1\n",
            "2\n",
            "3\n",
            "4\n",
            "5\n",
            "6\n",
            "7\n",
            "8\n",
            "9\n"
          ],
          "name": "stdout"
        }
      ]
    },
    {
      "cell_type": "code",
      "metadata": {
        "id": "nKXLOLBnzxey",
        "colab": {
          "base_uri": "https://localhost:8080/"
        },
        "outputId": "3fa46d39-264e-4461-8026-8a222b2f668f"
      },
      "source": [
        "sequence = [4,5,10,16,15,7,25,21,45235467,23344545,234,235]  #this sequence is a random list of numbers\n",
        "for item in sequence: #for every item in the sequence\n",
        "  if item % 5: #if the item is divisible by 5 \n",
        "    print(item) #print the item\n",
        "  else:\n",
        "    print(f'{item} is divisible by 5')"
      ],
      "execution_count": null,
      "outputs": [
        {
          "output_type": "stream",
          "text": [
            "4\n",
            "5 is divisible by 5\n",
            "10 is divisible by 5\n",
            "16\n",
            "15 is divisible by 5\n",
            "7\n",
            "25 is divisible by 5\n",
            "21\n",
            "45235467\n",
            "23344545 is divisible by 5\n",
            "234\n",
            "235 is divisible by 5\n"
          ],
          "name": "stdout"
        }
      ]
    },
    {
      "cell_type": "markdown",
      "metadata": {
        "id": "UJRLhKQg28s-"
      },
      "source": [
        "##Using packages, Opening, Modifying and Saving Files\n",
        "\n",
        "For actual projects we almost always need to use our own data. Here we will look at how to import that data, how to modify it, and how to save it again.\n",
        "We will also look briefly at how we can add extra functionality to Python.\n"
      ]
    },
    {
      "cell_type": "markdown",
      "metadata": {
        "id": "_2fB547GIGHg"
      },
      "source": [
        "##Reading in a csv file as a dataframe\n",
        "This will be shown in detail in the intermediate notebook."
      ]
    },
    {
      "cell_type": "code",
      "metadata": {
        "id": "M5_2c2dBmz9e"
      },
      "source": [
        "#Read in csv file as dataframe\n",
        "import pandas as pd\n",
        "df = pd.read_csv(\"data.csv\")"
      ],
      "execution_count": null,
      "outputs": []
    },
    {
      "cell_type": "markdown",
      "metadata": {
        "id": "jEp2PuvCIJIJ"
      },
      "source": [
        "##Reading in a text file"
      ]
    },
    {
      "cell_type": "code",
      "metadata": {
        "id": "WTvA4_LRIxbi"
      },
      "source": [
        "#The basic approach. NOT RECOMMENDED\n",
        "file = open('example.txt')\n",
        "#do something\n",
        "file.close()"
      ],
      "execution_count": null,
      "outputs": []
    },
    {
      "cell_type": "code",
      "metadata": {
        "id": "b4a9e38PIJUx"
      },
      "source": [
        "reader = open('example.txt')\n",
        "try:\n",
        "  # Further file processing goes here\n",
        "  pass\n",
        "finally:\n",
        "  reader.close()"
      ],
      "execution_count": null,
      "outputs": []
    },
    {
      "cell_type": "code",
      "metadata": {
        "id": "yKyQ3ks-Iiyx"
      },
      "source": [
        "#the same as above\n",
        "with open('example.txt') as reader:\n",
        "    # Further file processing goes here\n",
        "    pass"
      ],
      "execution_count": null,
      "outputs": []
    },
    {
      "cell_type": "code",
      "metadata": {
        "colab": {
          "base_uri": "https://localhost:8080/",
          "height": 215
        },
        "id": "ImNBRtt_JDKM",
        "outputId": "01774df4-7efc-4bee-fd87-26fb866de4b4"
      },
      "source": [
        "#get all the contents\n",
        "with open('example.txt') as f:\n",
        "    contents = f.read()\n",
        "    print(contents) #note that in this case indentation does not matter"
      ],
      "execution_count": null,
      "outputs": [
        {
          "output_type": "error",
          "ename": "FileNotFoundError",
          "evalue": "ignored",
          "traceback": [
            "\u001b[0;31m---------------------------------------------------------------------------\u001b[0m",
            "\u001b[0;31mFileNotFoundError\u001b[0m                         Traceback (most recent call last)",
            "\u001b[0;32m<ipython-input-47-781c0f0121b3>\u001b[0m in \u001b[0;36m<module>\u001b[0;34m()\u001b[0m\n\u001b[1;32m      1\u001b[0m \u001b[0;31m#get all the contents\u001b[0m\u001b[0;34m\u001b[0m\u001b[0;34m\u001b[0m\u001b[0;34m\u001b[0m\u001b[0m\n\u001b[0;32m----> 2\u001b[0;31m \u001b[0;32mwith\u001b[0m \u001b[0mopen\u001b[0m\u001b[0;34m(\u001b[0m\u001b[0;34m'example.txt'\u001b[0m\u001b[0;34m)\u001b[0m \u001b[0;32mas\u001b[0m \u001b[0mf\u001b[0m\u001b[0;34m:\u001b[0m\u001b[0;34m\u001b[0m\u001b[0;34m\u001b[0m\u001b[0m\n\u001b[0m\u001b[1;32m      3\u001b[0m     \u001b[0mcontents\u001b[0m \u001b[0;34m=\u001b[0m \u001b[0mf\u001b[0m\u001b[0;34m.\u001b[0m\u001b[0mread\u001b[0m\u001b[0;34m(\u001b[0m\u001b[0;34m)\u001b[0m\u001b[0;34m\u001b[0m\u001b[0;34m\u001b[0m\u001b[0m\n\u001b[1;32m      4\u001b[0m     \u001b[0mprint\u001b[0m\u001b[0;34m(\u001b[0m\u001b[0mcontents\u001b[0m\u001b[0;34m)\u001b[0m \u001b[0;31m#note that in this case indentation does not matter\u001b[0m\u001b[0;34m\u001b[0m\u001b[0;34m\u001b[0m\u001b[0m\n",
            "\u001b[0;31mFileNotFoundError\u001b[0m: [Errno 2] No such file or directory: 'example.txt'"
          ]
        }
      ]
    },
    {
      "cell_type": "code",
      "metadata": {
        "colab": {
          "base_uri": "https://localhost:8080/"
        },
        "id": "v1WzuhbqJJxC",
        "outputId": "34b31391-2252-409c-fae0-da0ccbf98418"
      },
      "source": [
        "#to get a list of strings\n",
        "lines = []\n",
        "with open('example.txt') as f:\n",
        "    lines = f.readlines()\n",
        "\n",
        "count = 0\n",
        "for line in lines:\n",
        "    count += 1\n",
        "    print(f'line {count}: {line}')    #Any other way to get the number of lines?"
      ],
      "execution_count": null,
      "outputs": [
        {
          "output_type": "stream",
          "text": [
            "line 1: The Zen of Python, by Tim Peters\n",
            "\n",
            "line 2: \n",
            "\n",
            "line 3: Beautiful is better than ugly.\n",
            "\n",
            "line 4: Explicit is better than implicit.\n",
            "\n",
            "line 5: Simple is better than complex.\n",
            "\n",
            "line 6: Complex is better than complicated.\n",
            "\n",
            "line 7: Flat is better than nested.\n",
            "\n",
            "line 8: Sparse is better than dense.\n",
            "\n",
            "line 9: Readability counts.\n",
            "\n",
            "line 10: Special cases aren't special enough to break the rules.\n",
            "\n",
            "line 11: Although practicality beats purity.\n",
            "\n",
            "line 12: Errors should never pass silently.\n",
            "\n",
            "line 13: Unless explicitly silenced.\n",
            "\n",
            "line 14: In the face of ambiguity, refuse the temptation to guess.\n",
            "\n",
            "line 15: There should be one-- and preferably only one --obvious way to do it.\n",
            "\n",
            "line 16: Although that way may not be obvious at first unless you're Dutch.\n",
            "\n",
            "line 17: Now is better than never.\n",
            "\n",
            "line 18: Although never is often better than *right* now.\n",
            "\n",
            "line 19: If the implementation is hard to explain, it's a bad idea.\n",
            "\n",
            "line 20: If the implementation is easy to explain, it may be a good idea.\n",
            "\n",
            "line 21: Namespaces are one honking great idea -- let's do more of those!\n"
          ],
          "name": "stdout"
        }
      ]
    },
    {
      "cell_type": "code",
      "metadata": {
        "colab": {
          "base_uri": "https://localhost:8080/"
        },
        "id": "P1t8IYpuLxRl",
        "outputId": "6fa921bf-806c-48e3-f96b-d7b702252d64"
      },
      "source": [
        "#different encodings\n",
        "with open('example.txt', encoding='utf8') as f:\n",
        "    for line in f:\n",
        "        print(line.strip())"
      ],
      "execution_count": null,
      "outputs": [
        {
          "output_type": "stream",
          "text": [
            "The Zen of Python, by Tim Peters\n",
            "\n",
            "Beautiful is better than ugly.\n",
            "Explicit is better than implicit.\n",
            "Simple is better than complex.\n",
            "Complex is better than complicated.\n",
            "Flat is better than nested.\n",
            "Sparse is better than dense.\n",
            "Readability counts.\n",
            "Special cases aren't special enough to break the rules.\n",
            "Although practicality beats purity.\n",
            "Errors should never pass silently.\n",
            "Unless explicitly silenced.\n",
            "In the face of ambiguity, refuse the temptation to guess.\n",
            "There should be one-- and preferably only one --obvious way to do it.\n",
            "Although that way may not be obvious at first unless you're Dutch.\n",
            "Now is better than never.\n",
            "Although never is often better than *right* now.\n",
            "If the implementation is hard to explain, it's a bad idea.\n",
            "If the implementation is easy to explain, it may be a good idea.\n",
            "Namespaces are one honking great idea -- let's do more of those!\n"
          ],
          "name": "stdout"
        }
      ]
    },
    {
      "cell_type": "markdown",
      "metadata": {
        "id": "OVZEYbj0LpHV"
      },
      "source": [
        "##Writing files"
      ]
    },
    {
      "cell_type": "code",
      "metadata": {
        "id": "EtrLQKB9Lr9R"
      },
      "source": [
        "with open('example.txt', 'r') as reader:\n",
        "    # Note: readlines doesn't trim the line endings\n",
        "    example = reader.readlines()\n",
        "\n",
        "with open('example_reversed.txt', 'w') as writer:\n",
        "    # Alternatively you could use\n",
        "    # writer.writelines(reversed(dog_breeds))\n",
        "\n",
        "    # Write the dog breeds to the file in reversed order\n",
        "    for breed in reversed(example):\n",
        "        writer.write(breed)"
      ],
      "execution_count": null,
      "outputs": []
    },
    {
      "cell_type": "code",
      "metadata": {
        "id": "wXUEo2jMSHNm"
      },
      "source": [
        "with open(\"example.txt\", \"a\") as myfile:\n",
        "    myfile.write(\"appended text\")"
      ],
      "execution_count": null,
      "outputs": []
    }
  ]
}