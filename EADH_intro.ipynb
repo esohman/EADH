{
  "nbformat": 4,
  "nbformat_minor": 0,
  "metadata": {
    "colab": {
      "name": "EADH-intro.ipynb",
      "provenance": [],
      "authorship_tag": "ABX9TyMup+N4SvabzfnUPH06UpWI",
      "include_colab_link": true
    },
    "kernelspec": {
      "name": "python3",
      "display_name": "Python 3"
    }
  },
  "cells": [
    {
      "cell_type": "markdown",
      "metadata": {
        "id": "view-in-github",
        "colab_type": "text"
      },
      "source": [
        "<a href=\"https://colab.research.google.com/github/esohman/EADH/blob/main/EADH_intro.ipynb\" target=\"_parent\"><img src=\"https://colab.research.google.com/assets/colab-badge.svg\" alt=\"Open In Colab\"/></a>"
      ]
    },
    {
      "cell_type": "markdown",
      "metadata": {
        "id": "1JKDnPvdKKlj"
      },
      "source": [
        "# Introduction to Python for Digital Humanities"
      ]
    },
    {
      "cell_type": "code",
      "metadata": {
        "id": "dUhqMwo2KEzj"
      },
      "source": [
        ""
      ],
      "execution_count": null,
      "outputs": []
    }
  ]
}